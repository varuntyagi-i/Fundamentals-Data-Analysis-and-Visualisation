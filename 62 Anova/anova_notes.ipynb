{
 "cells": [
  {
   "cell_type": "code",
   "execution_count": 1,
   "id": "859dc4d5",
   "metadata": {},
   "outputs": [],
   "source": [
    "import numpy as np\n",
    "import pandas as pd\n",
    "import seaborn as sns\n",
    "import matplotlib.pyplot as plt\n",
    "\n",
    "from scipy.stats import f_oneway, kruskal # Numeric Vs categorical for many categories\n",
    "from scipy.stats import ttest_ind # Numeric Vs categorical\n",
    "from scipy.stats import shapiro # Test Gaussian (50 to 200 samples)\n",
    "from scipy.stats import levene # Test variance\n",
    "from scipy.stats import ks_2samp\n",
    "\n",
    "from statsmodels.graphics.gofplots import qqplot"
   ]
  },
  {
   "attachments": {},
   "cell_type": "markdown",
   "id": "a3f5dbe2",
   "metadata": {
    "heading_collapsed": true
   },
   "source": [
    "# Aerofit"
   ]
  },
  {
   "cell_type": "code",
   "execution_count": 2,
   "id": "3d4932b7",
   "metadata": {
    "hidden": true
   },
   "outputs": [],
   "source": [
    "df_aerofit = pd.read_csv(\"aerofit.csv\")"
   ]
  },
  {
   "cell_type": "code",
   "execution_count": 3,
   "id": "b2d1bafc",
   "metadata": {
    "hidden": true
   },
   "outputs": [
    {
     "data": {
      "text/html": [
       "<div>\n",
       "<style scoped>\n",
       "    .dataframe tbody tr th:only-of-type {\n",
       "        vertical-align: middle;\n",
       "    }\n",
       "\n",
       "    .dataframe tbody tr th {\n",
       "        vertical-align: top;\n",
       "    }\n",
       "\n",
       "    .dataframe thead th {\n",
       "        text-align: right;\n",
       "    }\n",
       "</style>\n",
       "<table border=\"1\" class=\"dataframe\">\n",
       "  <thead>\n",
       "    <tr style=\"text-align: right;\">\n",
       "      <th></th>\n",
       "      <th>Product</th>\n",
       "      <th>Age</th>\n",
       "      <th>Gender</th>\n",
       "      <th>Education</th>\n",
       "      <th>MaritalStatus</th>\n",
       "      <th>Usage</th>\n",
       "      <th>Fitness</th>\n",
       "      <th>Income</th>\n",
       "      <th>Miles</th>\n",
       "    </tr>\n",
       "  </thead>\n",
       "  <tbody>\n",
       "    <tr>\n",
       "      <th>0</th>\n",
       "      <td>KP281</td>\n",
       "      <td>18</td>\n",
       "      <td>Male</td>\n",
       "      <td>14</td>\n",
       "      <td>Single</td>\n",
       "      <td>3</td>\n",
       "      <td>4</td>\n",
       "      <td>29562</td>\n",
       "      <td>112</td>\n",
       "    </tr>\n",
       "    <tr>\n",
       "      <th>1</th>\n",
       "      <td>KP281</td>\n",
       "      <td>19</td>\n",
       "      <td>Male</td>\n",
       "      <td>15</td>\n",
       "      <td>Single</td>\n",
       "      <td>2</td>\n",
       "      <td>3</td>\n",
       "      <td>31836</td>\n",
       "      <td>75</td>\n",
       "    </tr>\n",
       "    <tr>\n",
       "      <th>2</th>\n",
       "      <td>KP281</td>\n",
       "      <td>19</td>\n",
       "      <td>Female</td>\n",
       "      <td>14</td>\n",
       "      <td>Partnered</td>\n",
       "      <td>4</td>\n",
       "      <td>3</td>\n",
       "      <td>30699</td>\n",
       "      <td>66</td>\n",
       "    </tr>\n",
       "    <tr>\n",
       "      <th>3</th>\n",
       "      <td>KP281</td>\n",
       "      <td>19</td>\n",
       "      <td>Male</td>\n",
       "      <td>12</td>\n",
       "      <td>Single</td>\n",
       "      <td>3</td>\n",
       "      <td>3</td>\n",
       "      <td>32973</td>\n",
       "      <td>85</td>\n",
       "    </tr>\n",
       "    <tr>\n",
       "      <th>4</th>\n",
       "      <td>KP281</td>\n",
       "      <td>20</td>\n",
       "      <td>Male</td>\n",
       "      <td>13</td>\n",
       "      <td>Partnered</td>\n",
       "      <td>4</td>\n",
       "      <td>2</td>\n",
       "      <td>35247</td>\n",
       "      <td>47</td>\n",
       "    </tr>\n",
       "  </tbody>\n",
       "</table>\n",
       "</div>"
      ],
      "text/plain": [
       "  Product  Age  Gender  Education MaritalStatus  Usage  Fitness  Income  Miles\n",
       "0   KP281   18    Male         14        Single      3        4   29562    112\n",
       "1   KP281   19    Male         15        Single      2        3   31836     75\n",
       "2   KP281   19  Female         14     Partnered      4        3   30699     66\n",
       "3   KP281   19    Male         12        Single      3        3   32973     85\n",
       "4   KP281   20    Male         13     Partnered      4        2   35247     47"
      ]
     },
     "execution_count": 3,
     "metadata": {},
     "output_type": "execute_result"
    }
   ],
   "source": [
    "df_aerofit.head()"
   ]
  },
  {
   "cell_type": "code",
   "execution_count": 4,
   "id": "470292e8",
   "metadata": {
    "hidden": true
   },
   "outputs": [
    {
     "data": {
      "text/plain": [
       "array(['KP281', 'KP481', 'KP781'], dtype=object)"
      ]
     },
     "execution_count": 4,
     "metadata": {},
     "output_type": "execute_result"
    }
   ],
   "source": [
    "df_aerofit[\"Product\"].unique()"
   ]
  },
  {
   "cell_type": "code",
   "execution_count": 5,
   "id": "fb463f99",
   "metadata": {
    "hidden": true
   },
   "outputs": [
    {
     "data": {
      "text/plain": [
       "<Axes: xlabel='Product', ylabel='Income'>"
      ]
     },
     "execution_count": 5,
     "metadata": {},
     "output_type": "execute_result"
    },
    {
     "data": {
      "image/png": "[encoded data removed]",
      "text/plain": [
       "<Figure size 640x480 with 1 Axes>"
      ]
     },
     "metadata": {},
     "output_type": "display_data"
    }
   ],
   "source": [
    "sns.boxplot(x='Product', y='Income', data=df_aerofit)"
   ]
  },
  {
   "cell_type": "code",
   "execution_count": 6,
   "id": "de03c11f",
   "metadata": {
    "hidden": true
   },
   "outputs": [],
   "source": [
    "df_aerofit[\"random_group\"] = np.random.choice(\n",
    "    [\"g1\", \"g2\", \"g3\"], \n",
    "    size=len(df_aerofit)\n",
    ")"
   ]
  },
  {
   "cell_type": "code",
   "execution_count": 7,
   "id": "435bf4f5",
   "metadata": {
    "hidden": true
   },
   "outputs": [
    {
     "data": {
      "text/html": [
       "<div>\n",
       "<style scoped>\n",
       "    .dataframe tbody tr th:only-of-type {\n",
       "        vertical-align: middle;\n",
       "    }\n",
       "\n",
       "    .dataframe tbody tr th {\n",
       "        vertical-align: top;\n",
       "    }\n",
       "\n",
       "    .dataframe thead th {\n",
       "        text-align: right;\n",
       "    }\n",
       "</style>\n",
       "<table border=\"1\" class=\"dataframe\">\n",
       "  <thead>\n",
       "    <tr style=\"text-align: right;\">\n",
       "      <th></th>\n",
       "      <th>Product</th>\n",
       "      <th>Age</th>\n",
       "      <th>Gender</th>\n",
       "      <th>Education</th>\n",
       "      <th>MaritalStatus</th>\n",
       "      <th>Usage</th>\n",
       "      <th>Fitness</th>\n",
       "      <th>Income</th>\n",
       "      <th>Miles</th>\n",
       "      <th>random_group</th>\n",
       "    </tr>\n",
       "  </thead>\n",
       "  <tbody>\n",
       "    <tr>\n",
       "      <th>0</th>\n",
       "      <td>KP281</td>\n",
       "      <td>18</td>\n",
       "      <td>Male</td>\n",
       "      <td>14</td>\n",
       "      <td>Single</td>\n",
       "      <td>3</td>\n",
       "      <td>4</td>\n",
       "      <td>29562</td>\n",
       "      <td>112</td>\n",
       "      <td>g3</td>\n",
       "    </tr>\n",
       "    <tr>\n",
       "      <th>1</th>\n",
       "      <td>KP281</td>\n",
       "      <td>19</td>\n",
       "      <td>Male</td>\n",
       "      <td>15</td>\n",
       "      <td>Single</td>\n",
       "      <td>2</td>\n",
       "      <td>3</td>\n",
       "      <td>31836</td>\n",
       "      <td>75</td>\n",
       "      <td>g2</td>\n",
       "    </tr>\n",
       "    <tr>\n",
       "      <th>2</th>\n",
       "      <td>KP281</td>\n",
       "      <td>19</td>\n",
       "      <td>Female</td>\n",
       "      <td>14</td>\n",
       "      <td>Partnered</td>\n",
       "      <td>4</td>\n",
       "      <td>3</td>\n",
       "      <td>30699</td>\n",
       "      <td>66</td>\n",
       "      <td>g1</td>\n",
       "    </tr>\n",
       "    <tr>\n",
       "      <th>3</th>\n",
       "      <td>KP281</td>\n",
       "      <td>19</td>\n",
       "      <td>Male</td>\n",
       "      <td>12</td>\n",
       "      <td>Single</td>\n",
       "      <td>3</td>\n",
       "      <td>3</td>\n",
       "      <td>32973</td>\n",
       "      <td>85</td>\n",
       "      <td>g2</td>\n",
       "    </tr>\n",
       "    <tr>\n",
       "      <th>4</th>\n",
       "      <td>KP281</td>\n",
       "      <td>20</td>\n",
       "      <td>Male</td>\n",
       "      <td>13</td>\n",
       "      <td>Partnered</td>\n",
       "      <td>4</td>\n",
       "      <td>2</td>\n",
       "      <td>35247</td>\n",
       "      <td>47</td>\n",
       "      <td>g2</td>\n",
       "    </tr>\n",
       "  </tbody>\n",
       "</table>\n",
       "</div>"
      ],
      "text/plain": [
       "  Product  Age  Gender  Education MaritalStatus  Usage  Fitness  Income  \\\n",
       "0   KP281   18    Male         14        Single      3        4   29562   \n",
       "1   KP281   19    Male         15        Single      2        3   31836   \n",
       "2   KP281   19  Female         14     Partnered      4        3   30699   \n",
       "3   KP281   19    Male         12        Single      3        3   32973   \n",
       "4   KP281   20    Male         13     Partnered      4        2   35247   \n",
       "\n",
       "   Miles random_group  \n",
       "0    112           g3  \n",
       "1     75           g2  \n",
       "2     66           g1  \n",
       "3     85           g2  \n",
       "4     47           g2  "
      ]
     },
     "execution_count": 7,
     "metadata": {},
     "output_type": "execute_result"
    }
   ],
   "source": [
    "df_aerofit.head()"
   ]
  },
  {
   "cell_type": "code",
   "execution_count": 8,
   "id": "f12aa39b",
   "metadata": {
    "hidden": true
   },
   "outputs": [
    {
     "data": {
      "text/plain": [
       "<Axes: xlabel='random_group', ylabel='Income'>"
      ]
     },
     "execution_count": 8,
     "metadata": {},
     "output_type": "execute_result"
    },
    {
     "data": {
      "image/png": "[encoded data removed]",
      "text/plain": [
       "<Figure size 640x480 with 1 Axes>"
      ]
     },
     "metadata": {},
     "output_type": "display_data"
    }
   ],
   "source": [
    "sns.boxplot(x='random_group', y='Income', data=df_aerofit)"
   ]
  },
  {
   "cell_type": "code",
   "execution_count": 9,
   "id": "b3288367",
   "metadata": {
    "hidden": true
   },
   "outputs": [],
   "source": [
    "income_g1 = df_aerofit[df_aerofit[\"random_group\"]==\"g1\"][\"Income\"]\n",
    "income_g2 = df_aerofit[df_aerofit[\"random_group\"]==\"g2\"][\"Income\"]\n",
    "income_g3 = df_aerofit[df_aerofit[\"random_group\"]==\"g3\"][\"Income\"]"
   ]
  },
  {
   "cell_type": "code",
   "execution_count": 10,
   "id": "b3333a21",
   "metadata": {
    "hidden": true
   },
   "outputs": [
    {
     "data": {
      "text/plain": [
       "54000.8679245283"
      ]
     },
     "execution_count": 10,
     "metadata": {},
     "output_type": "execute_result"
    }
   ],
   "source": [
    "income_g1.mean()"
   ]
  },
  {
   "cell_type": "code",
   "execution_count": 11,
   "id": "760ace2d",
   "metadata": {
    "hidden": true
   },
   "outputs": [
    {
     "data": {
      "text/plain": [
       "52970.23880597015"
      ]
     },
     "execution_count": 11,
     "metadata": {},
     "output_type": "execute_result"
    }
   ],
   "source": [
    "income_g2.mean()"
   ]
  },
  {
   "cell_type": "code",
   "execution_count": 12,
   "id": "d5690def",
   "metadata": {
    "hidden": true
   },
   "outputs": [
    {
     "data": {
      "text/plain": [
       "54307.86666666667"
      ]
     },
     "execution_count": 12,
     "metadata": {},
     "output_type": "execute_result"
    }
   ],
   "source": [
    "income_g3.mean()"
   ]
  },
  {
   "cell_type": "code",
   "execution_count": 13,
   "id": "8f6fd6a4",
   "metadata": {
    "hidden": true
   },
   "outputs": [
    {
     "name": "stdout",
     "output_type": "stream",
     "text": [
      "Fail to reject H0\n",
      "All groups have same mean\n"
     ]
    }
   ],
   "source": [
    "# H0: All groups have same mean\n",
    "# Ha: One or more groups have different mean\n",
    "f_stats, p_value = f_oneway(income_g1, income_g2, income_g3)\n",
    "if p_value < 0.05:\n",
    "    print(\"Reject H0\")\n",
    "else:\n",
    "    print(\"Fail to reject H0\")\n",
    "    print(\"All groups have same mean\")"
   ]
  },
  {
   "cell_type": "code",
   "execution_count": 14,
   "id": "a8ebda93",
   "metadata": {
    "hidden": true
   },
   "outputs": [
    {
     "data": {
      "text/plain": [
       "<Axes: xlabel='Product', ylabel='Income'>"
      ]
     },
     "execution_count": 14,
     "metadata": {},
     "output_type": "execute_result"
    },
    {
     "data": {
      "image/png": "[encoded data removed]",
      "text/plain": [
       "<Figure size 640x480 with 1 Axes>"
      ]
     },
     "metadata": {},
     "output_type": "display_data"
    }
   ],
   "source": [
    "sns.boxplot(x='Product', y='Income', data=df_aerofit)"
   ]
  },
  {
   "cell_type": "code",
   "execution_count": 15,
   "id": "c6a7fa9d",
   "metadata": {
    "hidden": true
   },
   "outputs": [],
   "source": [
    "income_kp281 = df_aerofit[df_aerofit[\"Product\"]==\"KP281\"][\"Income\"]\n",
    "income_kp481 = df_aerofit[df_aerofit[\"Product\"]==\"KP481\"][\"Income\"]\n",
    "income_kp781 = df_aerofit[df_aerofit[\"Product\"]==\"KP781\"][\"Income\"]"
   ]
  },
  {
   "cell_type": "code",
   "execution_count": 16,
   "id": "51ac793d",
   "metadata": {
    "hidden": true
   },
   "outputs": [
    {
     "data": {
      "text/plain": [
       "46418.025"
      ]
     },
     "execution_count": 16,
     "metadata": {},
     "output_type": "execute_result"
    }
   ],
   "source": [
    "income_kp281.mean()"
   ]
  },
  {
   "cell_type": "code",
   "execution_count": 17,
   "id": "4b1cb541",
   "metadata": {
    "hidden": true
   },
   "outputs": [
    {
     "data": {
      "text/plain": [
       "48973.65"
      ]
     },
     "execution_count": 17,
     "metadata": {},
     "output_type": "execute_result"
    }
   ],
   "source": [
    "income_kp481.mean()"
   ]
  },
  {
   "cell_type": "code",
   "execution_count": 18,
   "id": "35c472d6",
   "metadata": {
    "hidden": true
   },
   "outputs": [
    {
     "data": {
      "text/plain": [
       "75441.575"
      ]
     },
     "execution_count": 18,
     "metadata": {},
     "output_type": "execute_result"
    }
   ],
   "source": [
    "income_kp781.mean()"
   ]
  },
  {
   "cell_type": "code",
   "execution_count": 19,
   "id": "54f80d40",
   "metadata": {},
   "outputs": [
    {
     "data": {
      "text/plain": [
       "F_onewayResult(statistic=89.25903546601671, pvalue=1.5644991316342494e-27)"
      ]
     },
     "execution_count": 19,
     "metadata": {},
     "output_type": "execute_result"
    }
   ],
   "source": [
    "# H0: All groups have same mean\n",
    "f_oneway(income_kp281, income_kp481, income_kp781)\n",
    "\n",
    "# p_value is almost 0, so reject H0"
   ]
  },
  {
   "cell_type": "code",
   "execution_count": 6,
   "id": "e5ada03f",
   "metadata": {},
   "outputs": [
    {
     "data": {
      "text/plain": [
       "F_onewayResult(statistic=0.002619189947196207, pvalue=0.9595604170457732)"
      ]
     },
     "execution_count": 6,
     "metadata": {},
     "output_type": "execute_result"
    }
   ],
   "source": [
    "# H0: All groups have same mean\n",
    "f_oneway([9.7, 9.5, 7.6 , 6.8, 6.7, 6.7, 6.6, 4.6, 3.9, 3.9, 3.7, 3.3, 3.0, 0.8, -9.9],  [6.5, 6.4, 6.4, 6.2, 4.9, 4.6, 4.6, 4.2, 3.6, 3.2, 2.9, 2.8, 2.7, 2.5])\n",
    "\n",
    "# p_value is almost 0, so reject H0"
   ]
  },
  {
   "cell_type": "code",
   "execution_count": 20,
   "id": "482f180f",
   "metadata": {
    "hidden": true
   },
   "outputs": [
    {
     "name": "stdout",
     "output_type": "stream",
     "text": [
      "7.770191623361236e-16\n",
      "Reject H0\n"
     ]
    }
   ],
   "source": [
    "# Try pairwise T-tests for fun\n",
    "# H0: Two means are same\n",
    "t_stat, p_value = ttest_ind(income_kp481, income_kp781)\n",
    "print(p_value)\n",
    "if p_value < 0.05:\n",
    "    print(\"Reject H0\")\n",
    "else:\n",
    "    print(\"Fail to reject H0\")"
   ]
  },
  {
   "cell_type": "code",
   "execution_count": 21,
   "id": "22e1489a",
   "metadata": {
    "hidden": true
   },
   "outputs": [
    {
     "name": "stdout",
     "output_type": "stream",
     "text": [
      "4.116508528877672e-21\n",
      "Reject H0\n"
     ]
    }
   ],
   "source": [
    "# Try pairwise T-tests for fun\n",
    "# H0: Two means are same\n",
    "t_stat, p_value = ttest_ind(income_kp281, income_kp781)\n",
    "print(p_value)\n",
    "if p_value < 0.05:\n",
    "    print(\"Reject H0\")\n",
    "else:\n",
    "    print(\"Fail to reject H0\")"
   ]
  },
  {
   "attachments": {},
   "cell_type": "markdown",
   "id": "33ef4458",
   "metadata": {
    "heading_collapsed": true
   },
   "source": [
    "# Assumptions of ANOVA"
   ]
  },
  {
   "attachments": {},
   "cell_type": "markdown",
   "id": "0ed9e720",
   "metadata": {
    "hidden": true
   },
   "source": [
    "1. Gaussian\n",
    "2. Independent\n",
    "3. Equal variance"
   ]
  },
  {
   "cell_type": "code",
   "execution_count": 22,
   "id": "ab81ffa0",
   "metadata": {
    "hidden": true
   },
   "outputs": [
    {
     "data": {
      "text/plain": [
       "KruskalResult(statistic=61.43670384567185, pvalue=4.562357014275808e-14)"
      ]
     },
     "execution_count": 22,
     "metadata": {},
     "output_type": "execute_result"
    }
   ],
   "source": [
    "# If assumptions of ANOVA fail, use kruskal\n",
    "kruskal(income_kp281, income_kp481, income_kp781)"
   ]
  },
  {
   "cell_type": "code",
   "execution_count": 23,
   "id": "e82224d1",
   "metadata": {
    "hidden": true
   },
   "outputs": [
    {
     "data": {
      "text/plain": [
       "KruskalResult(statistic=0.8959073688214003, pvalue=0.6389342759641421)"
      ]
     },
     "execution_count": 23,
     "metadata": {},
     "output_type": "execute_result"
    }
   ],
   "source": [
    "kruskal(income_g1, income_g2, income_g3)"
   ]
  },
  {
   "cell_type": "code",
   "execution_count": 24,
   "id": "c0ab2d08",
   "metadata": {
    "hidden": true
   },
   "outputs": [],
   "source": [
    "df_hw = pd.read_csv(\"weight-height.csv\")"
   ]
  },
  {
   "cell_type": "code",
   "execution_count": 25,
   "id": "f8c526c2",
   "metadata": {
    "hidden": true
   },
   "outputs": [
    {
     "data": {
      "text/html": [
       "<div>\n",
       "<style scoped>\n",
       "    .dataframe tbody tr th:only-of-type {\n",
       "        vertical-align: middle;\n",
       "    }\n",
       "\n",
       "    .dataframe tbody tr th {\n",
       "        vertical-align: top;\n",
       "    }\n",
       "\n",
       "    .dataframe thead th {\n",
       "        text-align: right;\n",
       "    }\n",
       "</style>\n",
       "<table border=\"1\" class=\"dataframe\">\n",
       "  <thead>\n",
       "    <tr style=\"text-align: right;\">\n",
       "      <th></th>\n",
       "      <th>Gender</th>\n",
       "      <th>Height</th>\n",
       "      <th>Weight</th>\n",
       "    </tr>\n",
       "  </thead>\n",
       "  <tbody>\n",
       "    <tr>\n",
       "      <th>0</th>\n",
       "      <td>Male</td>\n",
       "      <td>73.847017</td>\n",
       "      <td>241.893563</td>\n",
       "    </tr>\n",
       "    <tr>\n",
       "      <th>1</th>\n",
       "      <td>Male</td>\n",
       "      <td>68.781904</td>\n",
       "      <td>162.310473</td>\n",
       "    </tr>\n",
       "    <tr>\n",
       "      <th>2</th>\n",
       "      <td>Male</td>\n",
       "      <td>74.110105</td>\n",
       "      <td>212.740856</td>\n",
       "    </tr>\n",
       "    <tr>\n",
       "      <th>3</th>\n",
       "      <td>Male</td>\n",
       "      <td>71.730978</td>\n",
       "      <td>220.042470</td>\n",
       "    </tr>\n",
       "    <tr>\n",
       "      <th>4</th>\n",
       "      <td>Male</td>\n",
       "      <td>69.881796</td>\n",
       "      <td>206.349801</td>\n",
       "    </tr>\n",
       "  </tbody>\n",
       "</table>\n",
       "</div>"
      ],
      "text/plain": [
       "  Gender     Height      Weight\n",
       "0   Male  73.847017  241.893563\n",
       "1   Male  68.781904  162.310473\n",
       "2   Male  74.110105  212.740856\n",
       "3   Male  71.730978  220.042470\n",
       "4   Male  69.881796  206.349801"
      ]
     },
     "execution_count": 25,
     "metadata": {},
     "output_type": "execute_result"
    }
   ],
   "source": [
    "df_hw.head()"
   ]
  },
  {
   "cell_type": "code",
   "execution_count": 26,
   "id": "3823510d",
   "metadata": {
    "hidden": true
   },
   "outputs": [],
   "source": [
    "height = df_hw[\"Height\"]"
   ]
  },
  {
   "cell_type": "code",
   "execution_count": 27,
   "id": "046e702c",
   "metadata": {
    "hidden": true
   },
   "outputs": [
    {
     "data": {
      "text/plain": [
       "<Axes: xlabel='Height', ylabel='Count'>"
      ]
     },
     "execution_count": 27,
     "metadata": {},
     "output_type": "execute_result"
    },
    {
     "data": {
      "image/png": "[encoded data removed]",
      "text/plain": [
       "<Figure size 640x480 with 1 Axes>"
      ]
     },
     "metadata": {},
     "output_type": "display_data"
    }
   ],
   "source": [
    "sns.histplot(height)"
   ]
  },
  {
   "cell_type": "code",
   "execution_count": 28,
   "id": "0e6f45d3",
   "metadata": {
    "hidden": true
   },
   "outputs": [
    {
     "data": {
      "image/png": "[encoded data removed]",
      "text/plain": [
       "<Figure size 640x480 with 1 Axes>"
      ]
     },
     "metadata": {},
     "output_type": "display_data"
    }
   ],
   "source": [
    "qqplot(height, line=\"s\")\n",
    "plt.show()"
   ]
  },
  {
   "cell_type": "code",
   "execution_count": 29,
   "id": "4c28e0e8",
   "metadata": {
    "hidden": true
   },
   "outputs": [],
   "source": [
    "df_wt = pd.read_csv(\"waiting_time.csv\")"
   ]
  },
  {
   "cell_type": "code",
   "execution_count": 30,
   "id": "f0d91b5b",
   "metadata": {
    "hidden": true
   },
   "outputs": [
    {
     "data": {
      "text/html": [
       "<div>\n",
       "<style scoped>\n",
       "    .dataframe tbody tr th:only-of-type {\n",
       "        vertical-align: middle;\n",
       "    }\n",
       "\n",
       "    .dataframe tbody tr th {\n",
       "        vertical-align: top;\n",
       "    }\n",
       "\n",
       "    .dataframe thead th {\n",
       "        text-align: right;\n",
       "    }\n",
       "</style>\n",
       "<table border=\"1\" class=\"dataframe\">\n",
       "  <thead>\n",
       "    <tr style=\"text-align: right;\">\n",
       "      <th></th>\n",
       "      <th>time</th>\n",
       "    </tr>\n",
       "  </thead>\n",
       "  <tbody>\n",
       "    <tr>\n",
       "      <th>0</th>\n",
       "      <td>184.003075</td>\n",
       "    </tr>\n",
       "    <tr>\n",
       "      <th>1</th>\n",
       "      <td>36.721521</td>\n",
       "    </tr>\n",
       "    <tr>\n",
       "      <th>2</th>\n",
       "      <td>29.970417</td>\n",
       "    </tr>\n",
       "    <tr>\n",
       "      <th>3</th>\n",
       "      <td>75.640285</td>\n",
       "    </tr>\n",
       "    <tr>\n",
       "      <th>4</th>\n",
       "      <td>61.489439</td>\n",
       "    </tr>\n",
       "  </tbody>\n",
       "</table>\n",
       "</div>"
      ],
      "text/plain": [
       "         time\n",
       "0  184.003075\n",
       "1   36.721521\n",
       "2   29.970417\n",
       "3   75.640285\n",
       "4   61.489439"
      ]
     },
     "execution_count": 30,
     "metadata": {},
     "output_type": "execute_result"
    }
   ],
   "source": [
    "df_wt.head()"
   ]
  },
  {
   "cell_type": "code",
   "execution_count": 31,
   "id": "9ccf7dda",
   "metadata": {
    "hidden": true
   },
   "outputs": [
    {
     "data": {
      "text/plain": [
       "<Axes: xlabel='time', ylabel='Count'>"
      ]
     },
     "execution_count": 31,
     "metadata": {},
     "output_type": "execute_result"
    },
    {
     "data": {
      "image/png": "[encoded data removed]",
      "text/plain": [
       "<Figure size 640x480 with 1 Axes>"
      ]
     },
     "metadata": {},
     "output_type": "display_data"
    }
   ],
   "source": [
    "sns.histplot(df_wt[\"time\"])"
   ]
  },
  {
   "cell_type": "code",
   "execution_count": 32,
   "id": "8e1867dd",
   "metadata": {
    "hidden": true
   },
   "outputs": [
    {
     "data": {
      "image/png": "[encoded data removed]",
      "text/plain": [
       "<Figure size 640x480 with 1 Axes>"
      ]
     },
     "metadata": {},
     "output_type": "display_data"
    }
   ],
   "source": [
    "qqplot(df_wt[\"time\"], line=\"s\")\n",
    "plt.show()"
   ]
  },
  {
   "attachments": {},
   "cell_type": "markdown",
   "id": "87c46701",
   "metadata": {
    "heading_collapsed": true,
    "hidden": true
   },
   "source": [
    "## Shapiro test for Gaussian\n"
   ]
  },
  {
   "attachments": {},
   "cell_type": "markdown",
   "id": "6dda4b4e",
   "metadata": {
    "hidden": true
   },
   "source": [
    "Take a few samples of data (50 to 200)\n",
    "This test may not work if data is too large"
   ]
  },
  {
   "cell_type": "code",
   "execution_count": 33,
   "id": "37861881",
   "metadata": {
    "hidden": true
   },
   "outputs": [],
   "source": [
    "height_subset = height.sample(100)"
   ]
  },
  {
   "cell_type": "code",
   "execution_count": 34,
   "id": "d4987765",
   "metadata": {
    "hidden": true
   },
   "outputs": [
    {
     "name": "stdout",
     "output_type": "stream",
     "text": [
      "0.2351693958044052\n"
     ]
    }
   ],
   "source": [
    "# H0: Data is Gaussian\n",
    "# Ha: Data is not Gaussian\n",
    "test_stat, p_value = shapiro(height_subset)\n",
    "print(p_value)"
   ]
  },
  {
   "cell_type": "code",
   "execution_count": 35,
   "id": "a356ea4b",
   "metadata": {
    "hidden": true
   },
   "outputs": [],
   "source": [
    "df_wt_subset = df_wt.sample(50)[\"time\"]"
   ]
  },
  {
   "cell_type": "code",
   "execution_count": 36,
   "id": "4e74bbba",
   "metadata": {
    "hidden": true
   },
   "outputs": [
    {
     "name": "stdout",
     "output_type": "stream",
     "text": [
      "2.2358437945513288e-06\n"
     ]
    }
   ],
   "source": [
    "# H0: Data is Gaussian\n",
    "# Ha: Data is not Gaussian\n",
    "test_stat, p_value = shapiro(df_wt_subset)\n",
    "print(p_value)"
   ]
  },
  {
   "cell_type": "code",
   "execution_count": 37,
   "id": "f82c8b51",
   "metadata": {
    "hidden": true
   },
   "outputs": [
    {
     "data": {
      "text/plain": [
       "<Axes: xlabel='Height', ylabel='Count'>"
      ]
     },
     "execution_count": 37,
     "metadata": {},
     "output_type": "execute_result"
    },
    {
     "data": {
      "image/png": "[encoded data removed]",
      "text/plain": [
       "<Figure size 640x480 with 1 Axes>"
      ]
     },
     "metadata": {},
     "output_type": "display_data"
    }
   ],
   "source": [
    "sns.histplot(data=df_hw, x=\"Height\", hue=\"Gender\")"
   ]
  },
  {
   "cell_type": "code",
   "execution_count": 38,
   "id": "7719a565",
   "metadata": {
    "hidden": true
   },
   "outputs": [],
   "source": [
    "height_men = df_hw[df_hw[\"Gender\"]==\"Male\"][\"Height\"]\n",
    "height_women = df_hw[df_hw[\"Gender\"]==\"Female\"][\"Height\"]"
   ]
  },
  {
   "cell_type": "code",
   "execution_count": 39,
   "id": "ff8bed00",
   "metadata": {
    "hidden": true
   },
   "outputs": [
    {
     "data": {
      "text/plain": [
       "69.02634590621741"
      ]
     },
     "execution_count": 39,
     "metadata": {},
     "output_type": "execute_result"
    }
   ],
   "source": [
    "height_men.mean()"
   ]
  },
  {
   "cell_type": "code",
   "execution_count": 40,
   "id": "ec7383b6",
   "metadata": {
    "hidden": true
   },
   "outputs": [
    {
     "data": {
      "text/plain": [
       "63.70877360342507"
      ]
     },
     "execution_count": 40,
     "metadata": {},
     "output_type": "execute_result"
    }
   ],
   "source": [
    "height_women.mean()"
   ]
  },
  {
   "cell_type": "code",
   "execution_count": 41,
   "id": "52ae6d71",
   "metadata": {
    "hidden": true
   },
   "outputs": [
    {
     "data": {
      "text/plain": [
       "TtestResult(statistic=95.60271449148823, pvalue=0.0, df=9998.0)"
      ]
     },
     "execution_count": 41,
     "metadata": {},
     "output_type": "execute_result"
    }
   ],
   "source": [
    "ttest_ind(height_men, height_women)"
   ]
  },
  {
   "cell_type": "code",
   "execution_count": 42,
   "id": "3a54eef8",
   "metadata": {
    "hidden": true
   },
   "outputs": [
    {
     "data": {
      "text/plain": [
       "8.198843252520467"
      ]
     },
     "execution_count": 42,
     "metadata": {},
     "output_type": "execute_result"
    }
   ],
   "source": [
    "height_men.var()"
   ]
  },
  {
   "cell_type": "code",
   "execution_count": 43,
   "id": "ac52f651",
   "metadata": {
    "hidden": true
   },
   "outputs": [
    {
     "data": {
      "text/plain": [
       "7.2699474936701245"
      ]
     },
     "execution_count": 43,
     "metadata": {},
     "output_type": "execute_result"
    }
   ],
   "source": [
    "height_women.var()"
   ]
  },
  {
   "attachments": {},
   "cell_type": "markdown",
   "id": "f4215c97",
   "metadata": {
    "hidden": true
   },
   "source": [
    "To establish whether this difference we see in variance is chance or significant, we have to use Levene test"
   ]
  },
  {
   "cell_type": "code",
   "execution_count": 44,
   "id": "4ab70ff5",
   "metadata": {
    "hidden": true
   },
   "outputs": [
    {
     "name": "stdout",
     "output_type": "stream",
     "text": [
      "Variances are not equal\n"
     ]
    }
   ],
   "source": [
    "# H0: Variances are equal\n",
    "# Ha: Variances are not equal\n",
    "levene_stat, p_value = levene(height_men, height_women)\n",
    "if p_value < 0.05:\n",
    "    print(\"Variances are not equal\")"
   ]
  },
  {
   "cell_type": "code",
   "execution_count": 5,
   "id": "1add1ac9",
   "metadata": {},
   "outputs": [
    {
     "name": "stdout",
     "output_type": "stream",
     "text": [
      "Variances are not equal\n"
     ]
    },
    {
     "data": {
      "text/plain": [
       "(3.2465822074440966, 0.08274976336015857)"
      ]
     },
     "execution_count": 5,
     "metadata": {},
     "output_type": "execute_result"
    }
   ],
   "source": [
    "# H0: Variances are equal\n",
    "# Ha: Variances are not equal\n",
    "levene_stat, p_value = levene([9.7, 9.5, 7.6 , 6.8, 6.7, 6.7, 6.6, 4.6, 3.9, 3.9, 3.7, 3.3, 3.0, 0.8, -9.9],  [6.5, 6.4, 6.4, 6.2, 4.9, 4.6, 4.6, 4.2, 3.6, 3.2, 2.9, 2.8, 2.7, 2.5])\n",
    "if p_value < 0.2:\n",
    "    print(\"Variances are not equal\")\n",
    "else:\n",
    "    print(\"Variances are equal\")\n",
    "levene_stat, p_value"
   ]
  },
  {
   "attachments": {},
   "cell_type": "markdown",
   "id": "7e3b88c8",
   "metadata": {
    "heading_collapsed": true
   },
   "source": [
    "# Optional Post read - ANOVA implementation "
   ]
  },
  {
   "attachments": {},
   "cell_type": "markdown",
   "id": "959e1b50",
   "metadata": {
    "hidden": true
   },
   "source": [
    "Suppose we have monthly iPhone sales from three stores in a city: a, b, c.\n",
    "\n",
    "Test whether they have the same average sales"
   ]
  },
  {
   "cell_type": "code",
   "execution_count": 45,
   "id": "d108d07f",
   "metadata": {
    "hidden": true
   },
   "outputs": [],
   "source": [
    "a = [25, 25, 27, 30, 23, 20]\n",
    "b = [30, 30, 21, 24, 26, 28]\n",
    "c = [18, 30, 29, 29, 24, 26]"
   ]
  },
  {
   "cell_type": "code",
   "execution_count": 46,
   "id": "36976ea6",
   "metadata": {
    "hidden": true
   },
   "outputs": [
    {
     "name": "stdout",
     "output_type": "stream",
     "text": [
      "0.2348993288590604 0.793504662732833\n"
     ]
    }
   ],
   "source": [
    "f_stat, p_value = f_oneway(a,b,c) \n",
    "print(f_stat, p_value)"
   ]
  },
  {
   "cell_type": "code",
   "execution_count": 47,
   "id": "a11de77c",
   "metadata": {
    "hidden": true
   },
   "outputs": [
    {
     "data": {
      "text/html": [
       "<div>\n",
       "<style scoped>\n",
       "    .dataframe tbody tr th:only-of-type {\n",
       "        vertical-align: middle;\n",
       "    }\n",
       "\n",
       "    .dataframe tbody tr th {\n",
       "        vertical-align: top;\n",
       "    }\n",
       "\n",
       "    .dataframe thead th {\n",
       "        text-align: right;\n",
       "    }\n",
       "</style>\n",
       "<table border=\"1\" class=\"dataframe\">\n",
       "  <thead>\n",
       "    <tr style=\"text-align: right;\">\n",
       "      <th></th>\n",
       "      <th>A</th>\n",
       "      <th>B</th>\n",
       "      <th>C</th>\n",
       "    </tr>\n",
       "  </thead>\n",
       "  <tbody>\n",
       "    <tr>\n",
       "      <th>0</th>\n",
       "      <td>25</td>\n",
       "      <td>30</td>\n",
       "      <td>18</td>\n",
       "    </tr>\n",
       "    <tr>\n",
       "      <th>1</th>\n",
       "      <td>25</td>\n",
       "      <td>30</td>\n",
       "      <td>30</td>\n",
       "    </tr>\n",
       "    <tr>\n",
       "      <th>2</th>\n",
       "      <td>27</td>\n",
       "      <td>21</td>\n",
       "      <td>29</td>\n",
       "    </tr>\n",
       "    <tr>\n",
       "      <th>3</th>\n",
       "      <td>30</td>\n",
       "      <td>24</td>\n",
       "      <td>29</td>\n",
       "    </tr>\n",
       "    <tr>\n",
       "      <th>4</th>\n",
       "      <td>23</td>\n",
       "      <td>26</td>\n",
       "      <td>24</td>\n",
       "    </tr>\n",
       "    <tr>\n",
       "      <th>5</th>\n",
       "      <td>20</td>\n",
       "      <td>28</td>\n",
       "      <td>26</td>\n",
       "    </tr>\n",
       "  </tbody>\n",
       "</table>\n",
       "</div>"
      ],
      "text/plain": [
       "    A   B   C\n",
       "0  25  30  18\n",
       "1  25  30  30\n",
       "2  27  21  29\n",
       "3  30  24  29\n",
       "4  23  26  24\n",
       "5  20  28  26"
      ]
     },
     "execution_count": 47,
     "metadata": {},
     "output_type": "execute_result"
    }
   ],
   "source": [
    "list_of_tuples = list(zip(a, b,c))\n",
    "df = pd.DataFrame(list_of_tuples, columns = ['A', 'B', 'C'])\n",
    "df"
   ]
  },
  {
   "cell_type": "code",
   "execution_count": 48,
   "id": "c2d44008",
   "metadata": {
    "hidden": true
   },
   "outputs": [
    {
     "name": "stdout",
     "output_type": "stream",
     "text": [
      "Average sales for A: 25.0\n",
      "Average sales for B: 26.5\n",
      "Average sales for C: 26.0\n"
     ]
    }
   ],
   "source": [
    "m1 = np.mean(a)\n",
    "m2 = np.mean(b)\n",
    "m3 = np.mean(c)\n",
    "\n",
    "print('Average sales for A: {}'.format(m1))\n",
    "print('Average sales for B: {}'.format(m2))\n",
    "print('Average sales for C: {}'.format(m3))"
   ]
  },
  {
   "cell_type": "code",
   "execution_count": 49,
   "id": "d86373e2",
   "metadata": {
    "hidden": true
   },
   "outputs": [
    {
     "name": "stdout",
     "output_type": "stream",
     "text": [
      "Overall mean: 25.833333333333332\n"
     ]
    }
   ],
   "source": [
    "m = (m1+m2+m3)/3 \n",
    "print('Overall mean: {}'.format(m)) "
   ]
  },
  {
   "cell_type": "code",
   "execution_count": 50,
   "id": "62d8a45e",
   "metadata": {
    "hidden": true
   },
   "outputs": [
    {
     "name": "stdout",
     "output_type": "stream",
     "text": [
      "Between-groups Sum of Squared Differences: 6.999999999999999\n"
     ]
    }
   ],
   "source": [
    "SSb = 6*((m1-m)**2+(m2-m)**2+(m3-m)**2)\n",
    "print('Between-groups Sum of Squared Differences: {}'.format(SSb))"
   ]
  },
  {
   "cell_type": "code",
   "execution_count": 51,
   "id": "e6120573",
   "metadata": {
    "hidden": true
   },
   "outputs": [
    {
     "name": "stdout",
     "output_type": "stream",
     "text": [
      "Between-groups Mean Square value: 3.4999999999999996\n"
     ]
    }
   ],
   "source": [
    "MSb = SSb/2\n",
    "print('Between-groups Mean Square value: {}'.format(MSb))"
   ]
  },
  {
   "cell_type": "code",
   "execution_count": 52,
   "id": "34634834",
   "metadata": {
    "hidden": true
   },
   "outputs": [],
   "source": [
    "err_a = list(a-m1)\n",
    "err_b = list(b-m2)\n",
    "err_c = list(c-m3)\n",
    "err = err_a+err_b+err_c\n",
    "ssw = []\n",
    "for i in err:\n",
    "    ssw.append(i**2)\n",
    "    \n",
    "SSw = np.sum(ssw)"
   ]
  },
  {
   "cell_type": "code",
   "execution_count": 53,
   "id": "5ea19c3c",
   "metadata": {
    "hidden": true
   },
   "outputs": [
    {
     "name": "stdout",
     "output_type": "stream",
     "text": [
      "Within-group Mean Square value: 14.9\n"
     ]
    }
   ],
   "source": [
    "MSw = SSw/15\n",
    "print('Within-group Mean Square value: {}'.format(MSw))"
   ]
  },
  {
   "cell_type": "code",
   "execution_count": 54,
   "id": "3b441832",
   "metadata": {
    "hidden": true
   },
   "outputs": [
    {
     "name": "stdout",
     "output_type": "stream",
     "text": [
      "F-score: 0.23489932885906037\n"
     ]
    }
   ],
   "source": [
    "F = MSb/MSw\n",
    "print('F-score: {}'.format(F))"
   ]
  },
  {
   "cell_type": "code",
   "execution_count": 55,
   "id": "710ec693",
   "metadata": {
    "hidden": true
   },
   "outputs": [
    {
     "ename": "NameError",
     "evalue": "name 'f' is not defined",
     "output_type": "error",
     "traceback": [
      "\u001b[0;31m---------------------------------------------------------------------------\u001b[0m",
      "\u001b[0;31mNameError\u001b[0m                                 Traceback (most recent call last)",
      "Cell \u001b[0;32mIn[55], line 1\u001b[0m\n\u001b[0;32m----> 1\u001b[0m \u001b[39m1\u001b[39m \u001b[39m-\u001b[39m f\u001b[39m.\u001b[39mcdf(F, dfn\u001b[39m=\u001b[39m\u001b[39m2\u001b[39m, dfd\u001b[39m=\u001b[39m\u001b[39m15\u001b[39m)\n",
      "\u001b[0;31mNameError\u001b[0m: name 'f' is not defined"
     ]
    }
   ],
   "source": [
    "1 - f.cdf(F, dfn=2, dfd=15)"
   ]
  },
  {
   "cell_type": "code",
   "execution_count": null,
   "id": "f3580dad",
   "metadata": {
    "hidden": true
   },
   "outputs": [],
   "source": [
    "f_stat, p_value = f_oneway(a,b,c) \n",
    "print(f_stat, p_value)"
   ]
  },
  {
   "cell_type": "code",
   "execution_count": null,
   "id": "3d051c35",
   "metadata": {
    "hidden": true
   },
   "outputs": [],
   "source": [
    "# If assumptions of ANOVA don't hold, we need Kruskal Wallis\n",
    "kruskal(a, b, c)"
   ]
  }
 ],
 "metadata": {
  "kernelspec": {
   "display_name": "Python 3 (ipykernel)",
   "language": "python",
   "name": "python3"
  },
  "language_info": {
   "codemirror_mode": {
    "name": "ipython",
    "version": 3
   },
   "file_extension": ".py",
   "mimetype": "text/x-python",
   "name": "python",
   "nbconvert_exporter": "python",
   "pygments_lexer": "ipython3",
   "version": "3.10.6"
  }
 },
 "nbformat": 4,
 "nbformat_minor": 5
}
