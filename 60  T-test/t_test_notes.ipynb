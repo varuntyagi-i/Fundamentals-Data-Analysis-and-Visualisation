{
 "cells": [
  {
   "cell_type": "code",
   "execution_count": 1,
   "id": "eeea9191",
   "metadata": {},
   "outputs": [],
   "source": [
    "import numpy as np\n",
    "import pandas as pd\n",
    "import seaborn as sns\n",
    "import matplotlib.pyplot as plt"
   ]
  },
  {
   "cell_type": "code",
   "execution_count": 37,
   "id": "50999d5b",
   "metadata": {},
   "outputs": [],
   "source": [
    "from scipy.stats import norm, t\n",
    "from scipy.stats import ttest_1samp, ttest_ind"
   ]
  },
  {
   "cell_type": "markdown",
   "id": "a4ec1d8b",
   "metadata": {
    "heading_collapsed": true
   },
   "source": [
    "# Pastries"
   ]
  },
  {
   "cell_type": "markdown",
   "id": "700875c6",
   "metadata": {
    "hidden": true
   },
   "source": [
    "A french cake shop claims that the average number of pastries they can produce in a day exceeds 500. The average number of pastries produced per day over a 70 day period was found to be 530. Assume that the population standard deviation for the pastries produced per day is 125. Test the claim using a z-test with the critical z-value = 1.64 at the alpha (significance level) = 0.05, and state your interpretation."
   ]
  },
  {
   "cell_type": "code",
   "execution_count": 3,
   "id": "6389a1f8",
   "metadata": {
    "hidden": true
   },
   "outputs": [
    {
     "name": "stdout",
     "output_type": "stream",
     "text": [
      "0.022322492581293485\n",
      "Reject H0\n"
     ]
    }
   ],
   "source": [
    "# First step: Set up H0 and Ha\n",
    "# H0: mu = 500 (mu <= 500 also works, but cannot computer p-value)\n",
    "# Ha: mu > 500\n",
    "\n",
    "\n",
    "z_stat = (530 - 500)/(125/np.sqrt(70))\n",
    "p_value = 1 - norm.cdf(z_stat)\n",
    "print(p_value)\n",
    "alpha = 0.05\n",
    "if p_value < alpha:\n",
    "    print(\"Reject H0\")\n",
    "else:\n",
    "    print(\"Do not reject H0\")"
   ]
  },
  {
   "cell_type": "code",
   "execution_count": 4,
   "id": "d7e5fb33",
   "metadata": {
    "hidden": true
   },
   "outputs": [
    {
     "data": {
      "text/plain": [
       "524.574701413748"
      ]
     },
     "execution_count": 4,
     "metadata": {},
     "output_type": "execute_result"
    }
   ],
   "source": [
    "z = norm.ppf(0.95)\n",
    "x = 500 + z * 125/np.sqrt(70)\n",
    "x"
   ]
  },
  {
   "cell_type": "code",
   "execution_count": 5,
   "id": "6eb461ec",
   "metadata": {
    "hidden": true
   },
   "outputs": [
    {
     "data": {
      "text/plain": [
       "0.050000000000000044"
      ]
     },
     "execution_count": 5,
     "metadata": {},
     "output_type": "execute_result"
    }
   ],
   "source": [
    "# What if sales average was 524.57?\n",
    "1 - norm.cdf((524.574701413748-500)/(125/np.sqrt(70)))"
   ]
  },
  {
   "cell_type": "code",
   "execution_count": 6,
   "id": "4e1d820d",
   "metadata": {
    "hidden": true
   },
   "outputs": [
    {
     "data": {
      "text/plain": [
       "0.0037107735265998754"
      ]
     },
     "execution_count": 6,
     "metadata": {},
     "output_type": "execute_result"
    }
   ],
   "source": [
    "# What if sales average was 540? What is the p-value?\n",
    "1 - norm.cdf((540-500)/(125/np.sqrt(70)))"
   ]
  },
  {
   "cell_type": "markdown",
   "id": "6f7a4d00",
   "metadata": {
    "heading_collapsed": true
   },
   "source": [
    "# Improve IQ with a pill"
   ]
  },
  {
   "cell_type": "markdown",
   "id": "16ca703f",
   "metadata": {
    "hidden": true
   },
   "source": [
    "Population IQ average = 100"
   ]
  },
  {
   "cell_type": "markdown",
   "id": "5bd2050c",
   "metadata": {
    "hidden": true
   },
   "source": [
    "One researcher claims that his pill will improve IQ"
   ]
  },
  {
   "cell_type": "code",
   "execution_count": 7,
   "id": "969f6497",
   "metadata": {
    "hidden": true
   },
   "outputs": [],
   "source": [
    "# The pill is given to a few people and their IQ is tested with following results:\n",
    "iq_scores = [110, 105, 98, 102, 99, 104, 115, 95]"
   ]
  },
  {
   "cell_type": "code",
   "execution_count": 8,
   "id": "6ca657cc",
   "metadata": {
    "hidden": true
   },
   "outputs": [
    {
     "data": {
      "text/plain": [
       "103.5"
      ]
     },
     "execution_count": 8,
     "metadata": {},
     "output_type": "execute_result"
    }
   ],
   "source": [
    "np.mean(iq_scores)"
   ]
  },
  {
   "cell_type": "markdown",
   "id": "7cc0b598",
   "metadata": {
    "hidden": true
   },
   "source": [
    "Establish result at 99% confidence (0.01 significance \"alpha\")"
   ]
  },
  {
   "cell_type": "markdown",
   "id": "dad34a49",
   "metadata": {
    "hidden": true
   },
   "source": [
    "Here we use T-test"
   ]
  },
  {
   "cell_type": "markdown",
   "id": "da72b7a7",
   "metadata": {
    "hidden": true
   },
   "source": [
    "H0: mu = 100 (pill has no effect)\n",
    "Ha: mu > 100 (pill has good effect)"
   ]
  },
  {
   "cell_type": "code",
   "execution_count": 9,
   "id": "459c6328",
   "metadata": {
    "hidden": true
   },
   "outputs": [
    {
     "name": "stdout",
     "output_type": "stream",
     "text": [
      "0.1754994493585011\n",
      "1.5071573172061195\n"
     ]
    }
   ],
   "source": [
    "t_stat, p_value = ttest_1samp(iq_scores, 100)\n",
    "print(p_value)\n",
    "print(t_stat)"
   ]
  },
  {
   "cell_type": "code",
   "execution_count": 10,
   "id": "53371180",
   "metadata": {
    "hidden": true
   },
   "outputs": [
    {
     "name": "stdout",
     "output_type": "stream",
     "text": [
      "Fail to reject H0\n",
      "Pill has no effect\n"
     ]
    }
   ],
   "source": [
    "alpha = 0.01 # 99% confidence\n",
    "if p_value < alpha:\n",
    "    print(\"Reject H0\")\n",
    "else:\n",
    "    print(\"Fail to reject H0\")\n",
    "    print(\"Pill has no effect\")"
   ]
  },
  {
   "cell_type": "code",
   "execution_count": 11,
   "id": "b22e8623",
   "metadata": {
    "hidden": true
   },
   "outputs": [
    {
     "data": {
      "text/plain": [
       "1.5071573172061195"
      ]
     },
     "execution_count": 11,
     "metadata": {},
     "output_type": "execute_result"
    }
   ],
   "source": [
    "(103.5-100)/(pd.Series(iq_scores).std()/np.sqrt(8))"
   ]
  },
  {
   "cell_type": "markdown",
   "id": "685a60d8",
   "metadata": {
    "heading_collapsed": true
   },
   "source": [
    "# IQ across 2 schools"
   ]
  },
  {
   "cell_type": "code",
   "execution_count": 12,
   "id": "4473959b",
   "metadata": {
    "hidden": true
   },
   "outputs": [],
   "source": [
    "df_iq = pd.read_csv(\"iq_two_schools.csv\")"
   ]
  },
  {
   "cell_type": "code",
   "execution_count": 13,
   "id": "a2e866fa",
   "metadata": {
    "hidden": true
   },
   "outputs": [
    {
     "data": {
      "text/html": [
       "<div>\n",
       "<style scoped>\n",
       "    .dataframe tbody tr th:only-of-type {\n",
       "        vertical-align: middle;\n",
       "    }\n",
       "\n",
       "    .dataframe tbody tr th {\n",
       "        vertical-align: top;\n",
       "    }\n",
       "\n",
       "    .dataframe thead th {\n",
       "        text-align: right;\n",
       "    }\n",
       "</style>\n",
       "<table border=\"1\" class=\"dataframe\">\n",
       "  <thead>\n",
       "    <tr style=\"text-align: right;\">\n",
       "      <th></th>\n",
       "      <th>School</th>\n",
       "      <th>iq</th>\n",
       "    </tr>\n",
       "  </thead>\n",
       "  <tbody>\n",
       "    <tr>\n",
       "      <th>0</th>\n",
       "      <td>school_1</td>\n",
       "      <td>91</td>\n",
       "    </tr>\n",
       "    <tr>\n",
       "      <th>1</th>\n",
       "      <td>school_1</td>\n",
       "      <td>95</td>\n",
       "    </tr>\n",
       "    <tr>\n",
       "      <th>2</th>\n",
       "      <td>school_1</td>\n",
       "      <td>110</td>\n",
       "    </tr>\n",
       "    <tr>\n",
       "      <th>3</th>\n",
       "      <td>school_1</td>\n",
       "      <td>112</td>\n",
       "    </tr>\n",
       "    <tr>\n",
       "      <th>4</th>\n",
       "      <td>school_1</td>\n",
       "      <td>115</td>\n",
       "    </tr>\n",
       "  </tbody>\n",
       "</table>\n",
       "</div>"
      ],
      "text/plain": [
       "     School   iq\n",
       "0  school_1   91\n",
       "1  school_1   95\n",
       "2  school_1  110\n",
       "3  school_1  112\n",
       "4  school_1  115"
      ]
     },
     "execution_count": 13,
     "metadata": {},
     "output_type": "execute_result"
    }
   ],
   "source": [
    "df_iq.head()"
   ]
  },
  {
   "cell_type": "code",
   "execution_count": 14,
   "id": "8a4492fb",
   "metadata": {
    "hidden": true
   },
   "outputs": [
    {
     "data": {
      "text/plain": [
       "School\n",
       "school_1    101.153846\n",
       "school_2    109.416667\n",
       "Name: iq, dtype: float64"
      ]
     },
     "execution_count": 14,
     "metadata": {},
     "output_type": "execute_result"
    }
   ],
   "source": [
    "df_iq.groupby(\"School\")[\"iq\"].mean()"
   ]
  },
  {
   "cell_type": "code",
   "execution_count": 15,
   "id": "e26c3810",
   "metadata": {
    "hidden": true
   },
   "outputs": [],
   "source": [
    "iq_1 = df_iq[df_iq[\"School\"]==\"school_1\"][\"iq\"]\n",
    "iq_2 = df_iq[df_iq[\"School\"]==\"school_2\"][\"iq\"]"
   ]
  },
  {
   "cell_type": "code",
   "execution_count": 16,
   "id": "b8fb5d9d",
   "metadata": {
    "hidden": true
   },
   "outputs": [
    {
     "name": "stdout",
     "output_type": "stream",
     "text": [
      "0.02004552710936216\n",
      "Reject H0\n"
     ]
    }
   ],
   "source": [
    "# H0: mu1 = mu2\n",
    "# Ha: mu1 != mu2\n",
    "\n",
    "t_stat, p_value = ttest_ind(iq_1, iq_2)\n",
    "print(p_value)\n",
    "if p_value < 0.05:\n",
    "    print(\"Reject H0\")\n",
    "else:\n",
    "    print(\"Fail to reject H0\")"
   ]
  },
  {
   "cell_type": "code",
   "execution_count": 17,
   "id": "2b5c1189",
   "metadata": {
    "hidden": true
   },
   "outputs": [
    {
     "name": "stdout",
     "output_type": "stream",
     "text": [
      "0.989977236445319\n",
      "Fail to reject H0\n"
     ]
    }
   ],
   "source": [
    "# H0: mu1 = mu2\n",
    "# Ha: mu1 > mu2\n",
    "\n",
    "t_stat, p_value = ttest_ind(iq_1, iq_2, alternative=\"greater\")\n",
    "print(p_value)\n",
    "if p_value < 0.05:\n",
    "    print(\"Reject H0\")\n",
    "else:\n",
    "    print(\"Fail to reject H0\")"
   ]
  },
  {
   "cell_type": "code",
   "execution_count": 18,
   "id": "1b7d3be4",
   "metadata": {
    "hidden": true
   },
   "outputs": [
    {
     "name": "stdout",
     "output_type": "stream",
     "text": [
      "0.01002276355468108\n",
      "Reject H0\n"
     ]
    }
   ],
   "source": [
    "# H0: mu1 = mu2\n",
    "# Ha: mu1 < mu2\n",
    "\n",
    "t_stat, p_value = ttest_ind(iq_1, iq_2, alternative=\"less\")\n",
    "print(p_value)\n",
    "if p_value < 0.05:\n",
    "    print(\"Reject H0\")\n",
    "else:\n",
    "    print(\"Fail to reject H0\")"
   ]
  },
  {
   "cell_type": "markdown",
   "id": "e22375cd",
   "metadata": {
    "heading_collapsed": true
   },
   "source": [
    "# Cricket "
   ]
  },
  {
   "cell_type": "code",
   "execution_count": 19,
   "id": "4ae02a05",
   "metadata": {
    "hidden": true
   },
   "outputs": [],
   "source": [
    "df = pd.read_csv(\"Sachin_ODI.csv\")"
   ]
  },
  {
   "cell_type": "code",
   "execution_count": 20,
   "id": "d57ac1c9",
   "metadata": {
    "hidden": true
   },
   "outputs": [
    {
     "data": {
      "text/html": [
       "<div>\n",
       "<style scoped>\n",
       "    .dataframe tbody tr th:only-of-type {\n",
       "        vertical-align: middle;\n",
       "    }\n",
       "\n",
       "    .dataframe tbody tr th {\n",
       "        vertical-align: top;\n",
       "    }\n",
       "\n",
       "    .dataframe thead th {\n",
       "        text-align: right;\n",
       "    }\n",
       "</style>\n",
       "<table border=\"1\" class=\"dataframe\">\n",
       "  <thead>\n",
       "    <tr style=\"text-align: right;\">\n",
       "      <th></th>\n",
       "      <th>runs</th>\n",
       "      <th>NotOut</th>\n",
       "      <th>mins</th>\n",
       "      <th>bf</th>\n",
       "      <th>fours</th>\n",
       "      <th>sixes</th>\n",
       "      <th>sr</th>\n",
       "      <th>Inns</th>\n",
       "      <th>Opp</th>\n",
       "      <th>Ground</th>\n",
       "      <th>Date</th>\n",
       "      <th>Winner</th>\n",
       "      <th>Won</th>\n",
       "      <th>century</th>\n",
       "    </tr>\n",
       "  </thead>\n",
       "  <tbody>\n",
       "    <tr>\n",
       "      <th>0</th>\n",
       "      <td>13</td>\n",
       "      <td>0</td>\n",
       "      <td>30</td>\n",
       "      <td>15</td>\n",
       "      <td>3</td>\n",
       "      <td>0</td>\n",
       "      <td>86.66</td>\n",
       "      <td>1</td>\n",
       "      <td>New Zealand</td>\n",
       "      <td>Napier</td>\n",
       "      <td>1995-02-16</td>\n",
       "      <td>New Zealand</td>\n",
       "      <td>False</td>\n",
       "      <td>False</td>\n",
       "    </tr>\n",
       "    <tr>\n",
       "      <th>1</th>\n",
       "      <td>37</td>\n",
       "      <td>0</td>\n",
       "      <td>75</td>\n",
       "      <td>51</td>\n",
       "      <td>3</td>\n",
       "      <td>1</td>\n",
       "      <td>72.54</td>\n",
       "      <td>2</td>\n",
       "      <td>South Africa</td>\n",
       "      <td>Hamilton</td>\n",
       "      <td>1995-02-18</td>\n",
       "      <td>South Africa</td>\n",
       "      <td>False</td>\n",
       "      <td>False</td>\n",
       "    </tr>\n",
       "    <tr>\n",
       "      <th>2</th>\n",
       "      <td>47</td>\n",
       "      <td>0</td>\n",
       "      <td>65</td>\n",
       "      <td>40</td>\n",
       "      <td>7</td>\n",
       "      <td>0</td>\n",
       "      <td>117.50</td>\n",
       "      <td>2</td>\n",
       "      <td>Australia</td>\n",
       "      <td>Dunedin</td>\n",
       "      <td>1995-02-22</td>\n",
       "      <td>India</td>\n",
       "      <td>True</td>\n",
       "      <td>False</td>\n",
       "    </tr>\n",
       "    <tr>\n",
       "      <th>3</th>\n",
       "      <td>48</td>\n",
       "      <td>0</td>\n",
       "      <td>37</td>\n",
       "      <td>30</td>\n",
       "      <td>9</td>\n",
       "      <td>1</td>\n",
       "      <td>160.00</td>\n",
       "      <td>2</td>\n",
       "      <td>Bangladesh</td>\n",
       "      <td>Sharjah</td>\n",
       "      <td>1995-04-05</td>\n",
       "      <td>India</td>\n",
       "      <td>True</td>\n",
       "      <td>False</td>\n",
       "    </tr>\n",
       "    <tr>\n",
       "      <th>4</th>\n",
       "      <td>4</td>\n",
       "      <td>0</td>\n",
       "      <td>13</td>\n",
       "      <td>9</td>\n",
       "      <td>1</td>\n",
       "      <td>0</td>\n",
       "      <td>44.44</td>\n",
       "      <td>2</td>\n",
       "      <td>Pakistan</td>\n",
       "      <td>Sharjah</td>\n",
       "      <td>1995-04-07</td>\n",
       "      <td>Pakistan</td>\n",
       "      <td>False</td>\n",
       "      <td>False</td>\n",
       "    </tr>\n",
       "  </tbody>\n",
       "</table>\n",
       "</div>"
      ],
      "text/plain": [
       "   runs  NotOut mins  bf  fours  sixes      sr  Inns           Opp    Ground  \\\n",
       "0    13       0   30  15      3      0   86.66     1   New Zealand    Napier   \n",
       "1    37       0   75  51      3      1   72.54     2  South Africa  Hamilton   \n",
       "2    47       0   65  40      7      0  117.50     2     Australia   Dunedin   \n",
       "3    48       0   37  30      9      1  160.00     2    Bangladesh   Sharjah   \n",
       "4     4       0   13   9      1      0   44.44     2      Pakistan   Sharjah   \n",
       "\n",
       "         Date        Winner    Won  century  \n",
       "0  1995-02-16   New Zealand  False    False  \n",
       "1  1995-02-18  South Africa  False    False  \n",
       "2  1995-02-22         India   True    False  \n",
       "3  1995-04-05         India   True    False  \n",
       "4  1995-04-07      Pakistan  False    False  "
      ]
     },
     "execution_count": 20,
     "metadata": {},
     "output_type": "execute_result"
    }
   ],
   "source": [
    "df.head()"
   ]
  },
  {
   "cell_type": "markdown",
   "id": "8a20f08d",
   "metadata": {
    "hidden": true
   },
   "source": [
    "## Batting pattern in first and second innings"
   ]
  },
  {
   "cell_type": "code",
   "execution_count": 21,
   "id": "1adcdda2",
   "metadata": {
    "hidden": true
   },
   "outputs": [
    {
     "data": {
      "text/plain": [
       "Inns\n",
       "1    46.670588\n",
       "2    40.173684\n",
       "Name: runs, dtype: float64"
      ]
     },
     "execution_count": 21,
     "metadata": {},
     "output_type": "execute_result"
    }
   ],
   "source": [
    "df.groupby(\"Inns\")[\"runs\"].mean()"
   ]
  },
  {
   "cell_type": "code",
   "execution_count": 22,
   "id": "e6580e0b",
   "metadata": {
    "hidden": true
   },
   "outputs": [],
   "source": [
    "df_first_innings = df[df[\"Inns\"]==1]\n",
    "df_second_innings = df[df[\"Inns\"]==2]"
   ]
  },
  {
   "cell_type": "code",
   "execution_count": 23,
   "id": "014e0a78",
   "metadata": {
    "hidden": true
   },
   "outputs": [
    {
     "name": "stdout",
     "output_type": "stream",
     "text": [
      "0.07241862097379982\n",
      "Fail to reject H0\n",
      "Difference we see is just chance\n"
     ]
    }
   ],
   "source": [
    "# H0: mu1 = mu2 (first and second inns essentially the same)\n",
    "# Ha: mu1 > mu2 (first inngs avg is significantly more)\n",
    "alpha = 0.05\n",
    "t_stat, p_value = ttest_ind(df_first_innings[\"runs\"], df_second_innings[\"runs\"], alternative=\"greater\")\n",
    "print(p_value)\n",
    "if p_value < alpha:\n",
    "    print(\"Reject H0\")\n",
    "    print(\"First innings is better\")\n",
    "else:\n",
    "    print(\"Fail to reject H0\")\n",
    "    print(\"Difference we see is just chance\")"
   ]
  },
  {
   "cell_type": "markdown",
   "id": "96e52781",
   "metadata": {
    "hidden": true
   },
   "source": [
    "## Victory Vs Defeat"
   ]
  },
  {
   "cell_type": "code",
   "execution_count": 24,
   "id": "233f7096",
   "metadata": {
    "hidden": true
   },
   "outputs": [
    {
     "data": {
      "text/plain": [
       "Won\n",
       "False    35.130682\n",
       "True     51.000000\n",
       "Name: runs, dtype: float64"
      ]
     },
     "execution_count": 24,
     "metadata": {},
     "output_type": "execute_result"
    }
   ],
   "source": [
    "df.groupby(\"Won\")[\"runs\"].mean()"
   ]
  },
  {
   "cell_type": "code",
   "execution_count": 25,
   "id": "6186572f",
   "metadata": {
    "hidden": true
   },
   "outputs": [],
   "source": [
    "df_won = df[df[\"Won\"]==True]\n",
    "df_lost = df[df[\"Won\"]==False]"
   ]
  },
  {
   "cell_type": "code",
   "execution_count": 26,
   "id": "a3433a6c",
   "metadata": {
    "hidden": true
   },
   "outputs": [
    {
     "name": "stdout",
     "output_type": "stream",
     "text": [
      "0.00016353077486826558\n",
      "Reject H0\n"
     ]
    }
   ],
   "source": [
    "# H0: mu1 = mu2 (same batting pattern)\n",
    "# Ha: mu1 > mu2 (better scores in matches won)\n",
    "alpha = 0.05\n",
    "test_stat, p_value = ttest_ind(df_won[\"runs\"], df_lost[\"runs\"], alternative=\"greater\")\n",
    "print(p_value)\n",
    "if p_value < alpha:\n",
    "    print(\"Reject H0\")\n",
    "else:\n",
    "    print(\"Fail to reject\")"
   ]
  },
  {
   "cell_type": "markdown",
   "id": "a5c72225",
   "metadata": {},
   "source": [
    "# Aerofit"
   ]
  },
  {
   "cell_type": "code",
   "execution_count": 27,
   "id": "ec74422c",
   "metadata": {},
   "outputs": [],
   "source": [
    "df_aerofit = pd.read_csv(\"aerofit.csv\")"
   ]
  },
  {
   "cell_type": "code",
   "execution_count": 28,
   "id": "07c78c3c",
   "metadata": {},
   "outputs": [
    {
     "data": {
      "text/html": [
       "<div>\n",
       "<style scoped>\n",
       "    .dataframe tbody tr th:only-of-type {\n",
       "        vertical-align: middle;\n",
       "    }\n",
       "\n",
       "    .dataframe tbody tr th {\n",
       "        vertical-align: top;\n",
       "    }\n",
       "\n",
       "    .dataframe thead th {\n",
       "        text-align: right;\n",
       "    }\n",
       "</style>\n",
       "<table border=\"1\" class=\"dataframe\">\n",
       "  <thead>\n",
       "    <tr style=\"text-align: right;\">\n",
       "      <th></th>\n",
       "      <th>Product</th>\n",
       "      <th>Age</th>\n",
       "      <th>Gender</th>\n",
       "      <th>Education</th>\n",
       "      <th>MaritalStatus</th>\n",
       "      <th>Usage</th>\n",
       "      <th>Fitness</th>\n",
       "      <th>Income</th>\n",
       "      <th>Miles</th>\n",
       "    </tr>\n",
       "  </thead>\n",
       "  <tbody>\n",
       "    <tr>\n",
       "      <th>0</th>\n",
       "      <td>KP281</td>\n",
       "      <td>18</td>\n",
       "      <td>Male</td>\n",
       "      <td>14</td>\n",
       "      <td>Single</td>\n",
       "      <td>3</td>\n",
       "      <td>4</td>\n",
       "      <td>29562</td>\n",
       "      <td>112</td>\n",
       "    </tr>\n",
       "    <tr>\n",
       "      <th>1</th>\n",
       "      <td>KP281</td>\n",
       "      <td>19</td>\n",
       "      <td>Male</td>\n",
       "      <td>15</td>\n",
       "      <td>Single</td>\n",
       "      <td>2</td>\n",
       "      <td>3</td>\n",
       "      <td>31836</td>\n",
       "      <td>75</td>\n",
       "    </tr>\n",
       "    <tr>\n",
       "      <th>2</th>\n",
       "      <td>KP281</td>\n",
       "      <td>19</td>\n",
       "      <td>Female</td>\n",
       "      <td>14</td>\n",
       "      <td>Partnered</td>\n",
       "      <td>4</td>\n",
       "      <td>3</td>\n",
       "      <td>30699</td>\n",
       "      <td>66</td>\n",
       "    </tr>\n",
       "    <tr>\n",
       "      <th>3</th>\n",
       "      <td>KP281</td>\n",
       "      <td>19</td>\n",
       "      <td>Male</td>\n",
       "      <td>12</td>\n",
       "      <td>Single</td>\n",
       "      <td>3</td>\n",
       "      <td>3</td>\n",
       "      <td>32973</td>\n",
       "      <td>85</td>\n",
       "    </tr>\n",
       "    <tr>\n",
       "      <th>4</th>\n",
       "      <td>KP281</td>\n",
       "      <td>20</td>\n",
       "      <td>Male</td>\n",
       "      <td>13</td>\n",
       "      <td>Partnered</td>\n",
       "      <td>4</td>\n",
       "      <td>2</td>\n",
       "      <td>35247</td>\n",
       "      <td>47</td>\n",
       "    </tr>\n",
       "  </tbody>\n",
       "</table>\n",
       "</div>"
      ],
      "text/plain": [
       "  Product  Age  Gender  Education MaritalStatus  Usage  Fitness  Income  Miles\n",
       "0   KP281   18    Male         14        Single      3        4   29562    112\n",
       "1   KP281   19    Male         15        Single      2        3   31836     75\n",
       "2   KP281   19  Female         14     Partnered      4        3   30699     66\n",
       "3   KP281   19    Male         12        Single      3        3   32973     85\n",
       "4   KP281   20    Male         13     Partnered      4        2   35247     47"
      ]
     },
     "execution_count": 28,
     "metadata": {},
     "output_type": "execute_result"
    }
   ],
   "source": [
    "df_aerofit.head()"
   ]
  },
  {
   "cell_type": "markdown",
   "id": "64be1c07",
   "metadata": {},
   "source": [
    "Gender Vs Income"
   ]
  },
  {
   "cell_type": "code",
   "execution_count": 29,
   "id": "7c7952c0",
   "metadata": {},
   "outputs": [
    {
     "data": {
      "text/plain": [
       "<AxesSubplot:xlabel='Gender', ylabel='Income'>"
      ]
     },
     "execution_count": 29,
     "metadata": {},
     "output_type": "execute_result"
    },
    {
     "data": {
      "image/png": "[encoded data removed]",
      "text/plain": [
       "<Figure size 432x288 with 1 Axes>"
      ]
     },
     "metadata": {
      "needs_background": "light"
     },
     "output_type": "display_data"
    }
   ],
   "source": [
    "sns.boxplot(x='Gender', y='Income', data=df_aerofit) "
   ]
  },
  {
   "cell_type": "code",
   "execution_count": 30,
   "id": "446bc7ba",
   "metadata": {},
   "outputs": [],
   "source": [
    "income_male = df_aerofit[df_aerofit[\"Gender\"]==\"Male\"][\"Income\"]\n",
    "income_female = df_aerofit[df_aerofit[\"Gender\"]==\"Female\"][\"Income\"]"
   ]
  },
  {
   "cell_type": "code",
   "execution_count": 31,
   "id": "b558e05b",
   "metadata": {},
   "outputs": [
    {
     "data": {
      "text/plain": [
       "56562.75961538462"
      ]
     },
     "execution_count": 31,
     "metadata": {},
     "output_type": "execute_result"
    }
   ],
   "source": [
    "income_male.mean()"
   ]
  },
  {
   "cell_type": "code",
   "execution_count": 32,
   "id": "c0f82a4e",
   "metadata": {},
   "outputs": [
    {
     "data": {
      "text/plain": [
       "49828.90789473684"
      ]
     },
     "execution_count": 32,
     "metadata": {},
     "output_type": "execute_result"
    }
   ],
   "source": [
    "income_female.mean()"
   ]
  },
  {
   "cell_type": "code",
   "execution_count": 33,
   "id": "24335d22",
   "metadata": {},
   "outputs": [
    {
     "name": "stdout",
     "output_type": "stream",
     "text": [
      "0.003263631548607129\n",
      "Reject H0\n"
     ]
    }
   ],
   "source": [
    "# H0: same income\n",
    "# Ha: men having more income\n",
    "t_stat, p_value = ttest_ind(income_male, income_female, alternative=\"greater\")\n",
    "print(p_value)\n",
    "if p_value < 0.05:\n",
    "    print(\"Reject H0\")"
   ]
  },
  {
   "cell_type": "markdown",
   "id": "d379ce9a",
   "metadata": {},
   "source": [
    "# Optional Post read - T test from scratch"
   ]
  },
  {
   "cell_type": "code",
   "execution_count": 35,
   "id": "63484516",
   "metadata": {},
   "outputs": [],
   "source": [
    "def ttest_ind_from_scratch(d1, d2, alternative=\"two-sided\"):\n",
    "    \"\"\"\n",
    "    d1: pandas Series\n",
    "    d2: pandas Series\n",
    "    alternative: {‘two-sided’, ‘less’, ‘greater’}, optional\n",
    "    \"\"\"\n",
    "    n1 = len(d1)\n",
    "    n2 = len(d2)\n",
    "    \n",
    "    m1 = d1.mean()\n",
    "    m2 = d2.mean()\n",
    "    \n",
    "    s1 = d1.std()\n",
    "    s2 = d2.std()\n",
    "    \n",
    "    df = n1 + n2 - 2\n",
    "    \n",
    "    s = np.sqrt((((n1-1)*(s1**2)) + ((n2-1)*(s2**2))) / (n1 + n2 - 2))\n",
    "    \n",
    "    t_stat = (m1 - m2) / (s*np.sqrt(1/n1+ 1/n2))\n",
    "    \n",
    "    if alternative == \"two-sided\":\n",
    "        p_value = 2*(1 - t.cdf(t_stat, df=df))\n",
    "    if alternative == \"less\":\n",
    "        p_value = t.cdf(t_stat, df=df)\n",
    "    if alternative == \"greater\":\n",
    "        p_value = 1 - t.cdf(t_stat, df=df)\n",
    "    print(\"T-stat = \", t_stat)\n",
    "    print(\"P-value = \", p_value)\n",
    "    return [t_stat, p_value]"
   ]
  },
  {
   "cell_type": "code",
   "execution_count": 38,
   "id": "7f421074",
   "metadata": {},
   "outputs": [
    {
     "name": "stdout",
     "output_type": "stream",
     "text": [
      "T-stat =  2.752488637540257\n",
      "P-value =  0.0032636315486070933\n"
     ]
    },
    {
     "data": {
      "text/plain": [
       "[2.752488637540257, 0.0032636315486070933]"
      ]
     },
     "execution_count": 38,
     "metadata": {},
     "output_type": "execute_result"
    }
   ],
   "source": [
    "ttest_ind_from_scratch(income_male, income_female, alternative=\"greater\")"
   ]
  }
 ],
 "metadata": {
  "kernelspec": {
   "display_name": "Python 3 (ipykernel)",
   "language": "python",
   "name": "python3"
  },
  "language_info": {
   "codemirror_mode": {
    "name": "ipython",
    "version": 3
   },
   "file_extension": ".py",
   "mimetype": "text/x-python",
   "name": "python",
   "nbconvert_exporter": "python",
   "pygments_lexer": "ipython3",
   "version": "3.8.12"
  }
 },
 "nbformat": 4,
 "nbformat_minor": 5
}
