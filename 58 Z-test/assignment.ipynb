{
 "cells": [
  {
   "cell_type": "code",
   "execution_count": 2,
   "metadata": {},
   "outputs": [],
   "source": [
    "# !pip install scipy\n",
    "from scipy.stats import norm\n",
    "import numpy as np"
   ]
  },
  {
   "cell_type": "code",
   "execution_count": 13,
   "metadata": {},
   "outputs": [
    {
     "data": {
      "text/plain": [
       "-0.915365087842814"
      ]
     },
     "execution_count": 13,
     "metadata": {},
     "output_type": "execute_result"
    }
   ],
   "source": [
    "norm.cdf(-1.25)\n",
    "norm.ppf(0.18)"
   ]
  },
  {
   "cell_type": "code",
   "execution_count": 15,
   "metadata": {},
   "outputs": [],
   "source": [
    "import numpy as np\n",
    "\n",
    "# ass1\n",
    "u = 65\n",
    "x = 64.5\n",
    "sigma = 2.5\n",
    "n = 20\n",
    "\n",
    "# # ass2\n",
    "# u = 150\n",
    "# x = 155\n",
    "# sigma = 8.5\n",
    "# n = 10\n",
    "\n",
    "# # ass3\n",
    "# u = 500\n",
    "# x = 530\n",
    "# sigma = 125\n",
    "# n = 70\n",
    "\n",
    "# # ass4\n",
    "# u = 1.7\n",
    "# x = 1.85\n",
    "# sigma = .5\n",
    "# n = 30\n",
    "\n",
    "# # ass5\n",
    "# u = 3.5\n",
    "# x = 3.72\n",
    "# sigma = .7\n",
    "# n = 45\n",
    "# 3.5+1.28*(.7/np.sqrt(45))"
   ]
  },
  {
   "cell_type": "code",
   "execution_count": 16,
   "metadata": {},
   "outputs": [
    {
     "data": {
      "text/plain": [
       "0.18554668476134878"
      ]
     },
     "execution_count": 16,
     "metadata": {},
     "output_type": "execute_result"
    }
   ],
   "source": [
    "z = (x - u) / (sigma/np.sqrt(n))\n",
    "norm.cdf(z)\n",
    "\n",
    "# z = (x - u) / (sigma/np.sqrt(n))\n",
    "# z, 1-norm.cdf(z)"
   ]
  },
  {
   "cell_type": "code",
   "execution_count": 32,
   "metadata": {},
   "outputs": [],
   "source": [
    "# ass5\n",
    "u = 1000\n",
    "x = np.mean([886, 633, 943, 847, 934, 841, 1193, 820, 774, 834, 1050, 1058, 1192, 975, 1313, 872, 1079, 809])\n",
    "sigma = 188\n",
    "n = 18"
   ]
  },
  {
   "cell_type": "code",
   "execution_count": 34,
   "metadata": {},
   "outputs": [
    {
     "data": {
      "text/plain": [
       "(947.3888888888889, -1.1872874499710284, 0.11755712833941645)"
      ]
     },
     "execution_count": 34,
     "metadata": {},
     "output_type": "execute_result"
    }
   ],
   "source": [
    "z = (x - u) / (sigma/np.sqrt(n))\n",
    "x, z, norm.cdf(z)"
   ]
  },
  {
   "cell_type": "code",
   "execution_count": null,
   "metadata": {},
   "outputs": [],
   "source": []
  }
 ],
 "metadata": {
  "kernelspec": {
   "display_name": ".venv",
   "language": "python",
   "name": "python3"
  },
  "language_info": {
   "codemirror_mode": {
    "name": "ipython",
    "version": 3
   },
   "file_extension": ".py",
   "mimetype": "text/x-python",
   "name": "python",
   "nbconvert_exporter": "python",
   "pygments_lexer": "ipython3",
   "version": "3.10.6"
  },
  "orig_nbformat": 4
 },
 "nbformat": 4,
 "nbformat_minor": 2
}
