{
  "cells": [
    {
      "cell_type": "code",
      "execution_count": 1,
      "metadata": {
        "id": "gGebkU0aeOvI"
      },
      "outputs": [],
      "source": [
        "import pandas as pd\n",
        "import seaborn as sns\n",
        "import numpy as np\n",
        "from scipy.stats import norm\n",
        "import matplotlib.pyplot as plt"
      ]
    },
    {
      "cell_type": "code",
      "execution_count": 2,
      "metadata": {
        "colab": {
          "base_uri": "https://localhost:8080/",
          "height": 224
        },
        "id": "1dLrz0qJeOvJ",
        "outputId": "171b28bc-a965-4e3c-bc32-c559e83c3f83"
      },
      "outputs": [
        {
          "data": {
            "text/html": [
              "<div>\n",
              "<style scoped>\n",
              "    .dataframe tbody tr th:only-of-type {\n",
              "        vertical-align: middle;\n",
              "    }\n",
              "\n",
              "    .dataframe tbody tr th {\n",
              "        vertical-align: top;\n",
              "    }\n",
              "\n",
              "    .dataframe thead th {\n",
              "        text-align: right;\n",
              "    }\n",
              "</style>\n",
              "<table border=\"1\" class=\"dataframe\">\n",
              "  <thead>\n",
              "    <tr style=\"text-align: right;\">\n",
              "      <th></th>\n",
              "      <th>User_ID</th>\n",
              "      <th>Product_ID</th>\n",
              "      <th>Gender</th>\n",
              "      <th>Age</th>\n",
              "      <th>Occupation</th>\n",
              "      <th>City_Category</th>\n",
              "      <th>Stay_In_Current_City_Years</th>\n",
              "      <th>Marital_Status</th>\n",
              "      <th>Product_Category</th>\n",
              "      <th>Purchase</th>\n",
              "    </tr>\n",
              "  </thead>\n",
              "  <tbody>\n",
              "    <tr>\n",
              "      <th>0</th>\n",
              "      <td>1000001</td>\n",
              "      <td>P00069042</td>\n",
              "      <td>F</td>\n",
              "      <td>0-17</td>\n",
              "      <td>10</td>\n",
              "      <td>A</td>\n",
              "      <td>2</td>\n",
              "      <td>0</td>\n",
              "      <td>3</td>\n",
              "      <td>8370</td>\n",
              "    </tr>\n",
              "    <tr>\n",
              "      <th>1</th>\n",
              "      <td>1000001</td>\n",
              "      <td>P00248942</td>\n",
              "      <td>F</td>\n",
              "      <td>0-17</td>\n",
              "      <td>10</td>\n",
              "      <td>A</td>\n",
              "      <td>2</td>\n",
              "      <td>0</td>\n",
              "      <td>1</td>\n",
              "      <td>15200</td>\n",
              "    </tr>\n",
              "    <tr>\n",
              "      <th>2</th>\n",
              "      <td>1000001</td>\n",
              "      <td>P00087842</td>\n",
              "      <td>F</td>\n",
              "      <td>0-17</td>\n",
              "      <td>10</td>\n",
              "      <td>A</td>\n",
              "      <td>2</td>\n",
              "      <td>0</td>\n",
              "      <td>12</td>\n",
              "      <td>1422</td>\n",
              "    </tr>\n",
              "    <tr>\n",
              "      <th>3</th>\n",
              "      <td>1000001</td>\n",
              "      <td>P00085442</td>\n",
              "      <td>F</td>\n",
              "      <td>0-17</td>\n",
              "      <td>10</td>\n",
              "      <td>A</td>\n",
              "      <td>2</td>\n",
              "      <td>0</td>\n",
              "      <td>12</td>\n",
              "      <td>1057</td>\n",
              "    </tr>\n",
              "    <tr>\n",
              "      <th>4</th>\n",
              "      <td>1000002</td>\n",
              "      <td>P00285442</td>\n",
              "      <td>M</td>\n",
              "      <td>55+</td>\n",
              "      <td>16</td>\n",
              "      <td>C</td>\n",
              "      <td>4+</td>\n",
              "      <td>0</td>\n",
              "      <td>8</td>\n",
              "      <td>7969</td>\n",
              "    </tr>\n",
              "  </tbody>\n",
              "</table>\n",
              "</div>"
            ],
            "text/plain": [
              "   User_ID Product_ID Gender   Age  Occupation City_Category  \\\n",
              "0  1000001  P00069042      F  0-17          10             A   \n",
              "1  1000001  P00248942      F  0-17          10             A   \n",
              "2  1000001  P00087842      F  0-17          10             A   \n",
              "3  1000001  P00085442      F  0-17          10             A   \n",
              "4  1000002  P00285442      M   55+          16             C   \n",
              "\n",
              "  Stay_In_Current_City_Years  Marital_Status  Product_Category  Purchase  \n",
              "0                          2               0                 3      8370  \n",
              "1                          2               0                 1     15200  \n",
              "2                          2               0                12      1422  \n",
              "3                          2               0                12      1057  \n",
              "4                         4+               0                 8      7969  "
            ]
          },
          "execution_count": 2,
          "metadata": {},
          "output_type": "execute_result"
        }
      ],
      "source": [
        "df = pd.read_csv(\"original_walmart_data.csv\")\n",
        "df.head()\n",
        "\n",
        "# from google.colab import drive\n",
        "# drive.mount('/content/drive')\n",
        "\n",
        "# !ls /content/drive/MyDrive/'Colab Notebooks'/neoversity/\n",
        "\n",
        "# df=pd.read_csv(\"/content/drive/MyDrive/Colab Notebooks/neoversity/original_walmart_data.csv\")\n",
        "# df.head()"
      ]
    },
    {
      "cell_type": "code",
      "execution_count": 3,
      "metadata": {
        "colab": {
          "base_uri": "https://localhost:8080/",
          "height": 0
        },
        "id": "UfjXHWaYeOvK",
        "outputId": "3428d9ef-8f10-4a9b-b09c-83520c39b6c4"
      },
      "outputs": [
        {
          "data": {
            "text/plain": [
              "(550068, 10)"
            ]
          },
          "execution_count": 3,
          "metadata": {},
          "output_type": "execute_result"
        }
      ],
      "source": [
        "df.shape"
      ]
    },
    {
      "cell_type": "code",
      "execution_count": 4,
      "metadata": {
        "colab": {
          "base_uri": "https://localhost:8080/",
          "height": 394
        },
        "id": "ehdrSEageOvK",
        "outputId": "8d5fad06-f406-44b0-8e38-30147074e643"
      },
      "outputs": [
        {
          "data": {
            "text/html": [
              "<div>\n",
              "<style scoped>\n",
              "    .dataframe tbody tr th:only-of-type {\n",
              "        vertical-align: middle;\n",
              "    }\n",
              "\n",
              "    .dataframe tbody tr th {\n",
              "        vertical-align: top;\n",
              "    }\n",
              "\n",
              "    .dataframe thead th {\n",
              "        text-align: right;\n",
              "    }\n",
              "</style>\n",
              "<table border=\"1\" class=\"dataframe\">\n",
              "  <thead>\n",
              "    <tr style=\"text-align: right;\">\n",
              "      <th></th>\n",
              "      <th>User_ID</th>\n",
              "      <th>Product_ID</th>\n",
              "      <th>Gender</th>\n",
              "      <th>Age</th>\n",
              "      <th>Occupation</th>\n",
              "      <th>City_Category</th>\n",
              "      <th>Stay_In_Current_City_Years</th>\n",
              "      <th>Marital_Status</th>\n",
              "      <th>Product_Category</th>\n",
              "      <th>Purchase</th>\n",
              "    </tr>\n",
              "  </thead>\n",
              "  <tbody>\n",
              "    <tr>\n",
              "      <th>count</th>\n",
              "      <td>5.500680e+05</td>\n",
              "      <td>550068</td>\n",
              "      <td>550068</td>\n",
              "      <td>550068</td>\n",
              "      <td>550068.000000</td>\n",
              "      <td>550068</td>\n",
              "      <td>550068</td>\n",
              "      <td>550068.000000</td>\n",
              "      <td>550068.000000</td>\n",
              "      <td>550068.000000</td>\n",
              "    </tr>\n",
              "    <tr>\n",
              "      <th>unique</th>\n",
              "      <td>NaN</td>\n",
              "      <td>3631</td>\n",
              "      <td>2</td>\n",
              "      <td>7</td>\n",
              "      <td>NaN</td>\n",
              "      <td>3</td>\n",
              "      <td>5</td>\n",
              "      <td>NaN</td>\n",
              "      <td>NaN</td>\n",
              "      <td>NaN</td>\n",
              "    </tr>\n",
              "    <tr>\n",
              "      <th>top</th>\n",
              "      <td>NaN</td>\n",
              "      <td>P00265242</td>\n",
              "      <td>M</td>\n",
              "      <td>26-35</td>\n",
              "      <td>NaN</td>\n",
              "      <td>B</td>\n",
              "      <td>1</td>\n",
              "      <td>NaN</td>\n",
              "      <td>NaN</td>\n",
              "      <td>NaN</td>\n",
              "    </tr>\n",
              "    <tr>\n",
              "      <th>freq</th>\n",
              "      <td>NaN</td>\n",
              "      <td>1880</td>\n",
              "      <td>414259</td>\n",
              "      <td>219587</td>\n",
              "      <td>NaN</td>\n",
              "      <td>231173</td>\n",
              "      <td>193821</td>\n",
              "      <td>NaN</td>\n",
              "      <td>NaN</td>\n",
              "      <td>NaN</td>\n",
              "    </tr>\n",
              "    <tr>\n",
              "      <th>mean</th>\n",
              "      <td>1.003029e+06</td>\n",
              "      <td>NaN</td>\n",
              "      <td>NaN</td>\n",
              "      <td>NaN</td>\n",
              "      <td>8.076707</td>\n",
              "      <td>NaN</td>\n",
              "      <td>NaN</td>\n",
              "      <td>0.409653</td>\n",
              "      <td>5.404270</td>\n",
              "      <td>9263.968713</td>\n",
              "    </tr>\n",
              "    <tr>\n",
              "      <th>std</th>\n",
              "      <td>1.727592e+03</td>\n",
              "      <td>NaN</td>\n",
              "      <td>NaN</td>\n",
              "      <td>NaN</td>\n",
              "      <td>6.522660</td>\n",
              "      <td>NaN</td>\n",
              "      <td>NaN</td>\n",
              "      <td>0.491770</td>\n",
              "      <td>3.936211</td>\n",
              "      <td>5023.065394</td>\n",
              "    </tr>\n",
              "    <tr>\n",
              "      <th>min</th>\n",
              "      <td>1.000001e+06</td>\n",
              "      <td>NaN</td>\n",
              "      <td>NaN</td>\n",
              "      <td>NaN</td>\n",
              "      <td>0.000000</td>\n",
              "      <td>NaN</td>\n",
              "      <td>NaN</td>\n",
              "      <td>0.000000</td>\n",
              "      <td>1.000000</td>\n",
              "      <td>12.000000</td>\n",
              "    </tr>\n",
              "    <tr>\n",
              "      <th>25%</th>\n",
              "      <td>1.001516e+06</td>\n",
              "      <td>NaN</td>\n",
              "      <td>NaN</td>\n",
              "      <td>NaN</td>\n",
              "      <td>2.000000</td>\n",
              "      <td>NaN</td>\n",
              "      <td>NaN</td>\n",
              "      <td>0.000000</td>\n",
              "      <td>1.000000</td>\n",
              "      <td>5823.000000</td>\n",
              "    </tr>\n",
              "    <tr>\n",
              "      <th>50%</th>\n",
              "      <td>1.003077e+06</td>\n",
              "      <td>NaN</td>\n",
              "      <td>NaN</td>\n",
              "      <td>NaN</td>\n",
              "      <td>7.000000</td>\n",
              "      <td>NaN</td>\n",
              "      <td>NaN</td>\n",
              "      <td>0.000000</td>\n",
              "      <td>5.000000</td>\n",
              "      <td>8047.000000</td>\n",
              "    </tr>\n",
              "    <tr>\n",
              "      <th>75%</th>\n",
              "      <td>1.004478e+06</td>\n",
              "      <td>NaN</td>\n",
              "      <td>NaN</td>\n",
              "      <td>NaN</td>\n",
              "      <td>14.000000</td>\n",
              "      <td>NaN</td>\n",
              "      <td>NaN</td>\n",
              "      <td>1.000000</td>\n",
              "      <td>8.000000</td>\n",
              "      <td>12054.000000</td>\n",
              "    </tr>\n",
              "    <tr>\n",
              "      <th>max</th>\n",
              "      <td>1.006040e+06</td>\n",
              "      <td>NaN</td>\n",
              "      <td>NaN</td>\n",
              "      <td>NaN</td>\n",
              "      <td>20.000000</td>\n",
              "      <td>NaN</td>\n",
              "      <td>NaN</td>\n",
              "      <td>1.000000</td>\n",
              "      <td>20.000000</td>\n",
              "      <td>23961.000000</td>\n",
              "    </tr>\n",
              "  </tbody>\n",
              "</table>\n",
              "</div>"
            ],
            "text/plain": [
              "             User_ID Product_ID  Gender     Age     Occupation City_Category  \\\n",
              "count   5.500680e+05     550068  550068  550068  550068.000000        550068   \n",
              "unique           NaN       3631       2       7            NaN             3   \n",
              "top              NaN  P00265242       M   26-35            NaN             B   \n",
              "freq             NaN       1880  414259  219587            NaN        231173   \n",
              "mean    1.003029e+06        NaN     NaN     NaN       8.076707           NaN   \n",
              "std     1.727592e+03        NaN     NaN     NaN       6.522660           NaN   \n",
              "min     1.000001e+06        NaN     NaN     NaN       0.000000           NaN   \n",
              "25%     1.001516e+06        NaN     NaN     NaN       2.000000           NaN   \n",
              "50%     1.003077e+06        NaN     NaN     NaN       7.000000           NaN   \n",
              "75%     1.004478e+06        NaN     NaN     NaN      14.000000           NaN   \n",
              "max     1.006040e+06        NaN     NaN     NaN      20.000000           NaN   \n",
              "\n",
              "       Stay_In_Current_City_Years  Marital_Status  Product_Category  \\\n",
              "count                      550068   550068.000000     550068.000000   \n",
              "unique                          5             NaN               NaN   \n",
              "top                             1             NaN               NaN   \n",
              "freq                       193821             NaN               NaN   \n",
              "mean                          NaN        0.409653          5.404270   \n",
              "std                           NaN        0.491770          3.936211   \n",
              "min                           NaN        0.000000          1.000000   \n",
              "25%                           NaN        0.000000          1.000000   \n",
              "50%                           NaN        0.000000          5.000000   \n",
              "75%                           NaN        1.000000          8.000000   \n",
              "max                           NaN        1.000000         20.000000   \n",
              "\n",
              "             Purchase  \n",
              "count   550068.000000  \n",
              "unique            NaN  \n",
              "top               NaN  \n",
              "freq              NaN  \n",
              "mean      9263.968713  \n",
              "std       5023.065394  \n",
              "min         12.000000  \n",
              "25%       5823.000000  \n",
              "50%       8047.000000  \n",
              "75%      12054.000000  \n",
              "max      23961.000000  "
            ]
          },
          "execution_count": 4,
          "metadata": {},
          "output_type": "execute_result"
        }
      ],
      "source": [
        "df.describe(include=\"all\")"
      ]
    },
    {
      "cell_type": "code",
      "execution_count": 5,
      "metadata": {
        "colab": {
          "base_uri": "https://localhost:8080/",
          "height": 0
        },
        "id": "5OrcDnM4eOvK",
        "outputId": "38cb6ff0-8e1a-4cd2-9012-314dd121d0f5"
      },
      "outputs": [
        {
          "name": "stdout",
          "output_type": "stream",
          "text": [
            "<class 'pandas.core.frame.DataFrame'>\n",
            "RangeIndex: 550068 entries, 0 to 550067\n",
            "Data columns (total 10 columns):\n",
            " #   Column                      Non-Null Count   Dtype \n",
            "---  ------                      --------------   ----- \n",
            " 0   User_ID                     550068 non-null  int64 \n",
            " 1   Product_ID                  550068 non-null  object\n",
            " 2   Gender                      550068 non-null  object\n",
            " 3   Age                         550068 non-null  object\n",
            " 4   Occupation                  550068 non-null  int64 \n",
            " 5   City_Category               550068 non-null  object\n",
            " 6   Stay_In_Current_City_Years  550068 non-null  object\n",
            " 7   Marital_Status              550068 non-null  int64 \n",
            " 8   Product_Category            550068 non-null  int64 \n",
            " 9   Purchase                    550068 non-null  int64 \n",
            "dtypes: int64(5), object(5)\n",
            "memory usage: 42.0+ MB\n"
          ]
        }
      ],
      "source": [
        "df.info()"
      ]
    },
    {
      "cell_type": "code",
      "execution_count": 6,
      "metadata": {
        "colab": {
          "base_uri": "https://localhost:8080/",
          "height": 0
        },
        "id": "Bru8W1rCeOvK",
        "outputId": "44d48ee7-4584-4297-a824-3d0b09620530"
      },
      "outputs": [
        {
          "data": {
            "text/plain": [
              "User_ID                       0\n",
              "Product_ID                    0\n",
              "Gender                        0\n",
              "Age                           0\n",
              "Occupation                    0\n",
              "City_Category                 0\n",
              "Stay_In_Current_City_Years    0\n",
              "Marital_Status                0\n",
              "Product_Category              0\n",
              "Purchase                      0\n",
              "dtype: int64"
            ]
          },
          "execution_count": 6,
          "metadata": {},
          "output_type": "execute_result"
        }
      ],
      "source": [
        "df.isnull().sum()"
      ]
    },
    {
      "cell_type": "code",
      "execution_count": 7,
      "metadata": {
        "colab": {
          "base_uri": "https://localhost:8080/",
          "height": 657
        },
        "id": "StTY7CkW6lzW",
        "outputId": "c8f4a467-789c-4305-8577-d4588adfd210"
      },
      "outputs": [
        {
          "name": "stderr",
          "output_type": "stream",
          "text": [
            "/tmp/ipykernel_105165/1206989212.py:2: UserWarning: \n",
            "\n",
            "`distplot` is a deprecated function and will be removed in seaborn v0.14.0.\n",
            "\n",
            "Please adapt your code to use either `displot` (a figure-level function with\n",
            "similar flexibility) or `histplot` (an axes-level function for histograms).\n",
            "\n",
            "For a guide to updating your code to use the new functions, please see\n",
            "https://gist.github.com/mwaskom/de44147ed2974457ad6372750bbe5751\n",
            "\n",
            "  sns.distplot(df[\"Purchase\"])\n"
          ]
        },
        {
          "data": {
            "text/plain": [
              "<Axes: xlabel='Purchase', ylabel='Density'>"
            ]
          },
          "execution_count": 7,
          "metadata": {},
          "output_type": "execute_result"
        },
        {
          "data": {
            "image/png": "[encoded data removed]",
            "text/plain": [
              "<Figure size 640x480 with 1 Axes>"
            ]
          },
          "metadata": {},
          "output_type": "display_data"
        }
      ],
      "source": [
        "# Plot the distribution\n",
        "sns.distplot(df[\"Purchase\"])"
      ]
    },
    {
      "cell_type": "code",
      "execution_count": 8,
      "metadata": {
        "colab": {
          "base_uri": "https://localhost:8080/",
          "height": 466
        },
        "id": "YPOM5B856l1t",
        "outputId": "083af05e-2a04-4cd3-fead-a910e8f4db04"
      },
      "outputs": [
        {
          "data": {
            "text/plain": [
              "<Axes: xlabel='Gender', ylabel='count'>"
            ]
          },
          "execution_count": 8,
          "metadata": {},
          "output_type": "execute_result"
        },
        {
          "data": {
            "image/png": "[encoded data removed]",
            "text/plain": [
              "<Figure size 640x480 with 1 Axes>"
            ]
          },
          "metadata": {},
          "output_type": "display_data"
        }
      ],
      "source": [
        "sns.countplot(x=\"Gender\", data=df)"
      ]
    },
    {
      "cell_type": "code",
      "execution_count": 9,
      "metadata": {
        "colab": {
          "base_uri": "https://localhost:8080/",
          "height": 466
        },
        "id": "KWNKKLhJ6l32",
        "outputId": "2f53fc4c-fd69-4c74-ef49-7b5a17018bb7"
      },
      "outputs": [
        {
          "data": {
            "text/plain": [
              "<Axes: xlabel='Age', ylabel='count'>"
            ]
          },
          "execution_count": 9,
          "metadata": {},
          "output_type": "execute_result"
        },
        {
          "data": {
            "image/png": "[encoded data removed]",
            "text/plain": [
              "<Figure size 640x480 with 1 Axes>"
            ]
          },
          "metadata": {},
          "output_type": "display_data"
        }
      ],
      "source": [
        "sns.countplot(x=\"Age\", data=df)"
      ]
    },
    {
      "cell_type": "code",
      "execution_count": 10,
      "metadata": {
        "colab": {
          "base_uri": "https://localhost:8080/",
          "height": 470
        },
        "id": "weYKfVRoeOvK",
        "outputId": "8ba087a7-0613-4336-c058-e7a94b13116a"
      },
      "outputs": [
        {
          "data": {
            "text/plain": [
              "<Axes: xlabel='Gender', ylabel='Purchase'>"
            ]
          },
          "execution_count": 10,
          "metadata": {},
          "output_type": "execute_result"
        },
        {
          "data": {
            "image/png": "[encoded data removed]",
            "text/plain": [
              "<Figure size 640x480 with 1 Axes>"
            ]
          },
          "metadata": {},
          "output_type": "display_data"
        }
      ],
      "source": [
        "sns.boxplot(x=\"Gender\", y=\"Purchase\", data=df)\n",
        "\n",
        "# Not much signifiance in distribution but show a little high purchase distribution from males."
      ]
    },
    {
      "cell_type": "code",
      "execution_count": 11,
      "metadata": {
        "colab": {
          "base_uri": "https://localhost:8080/",
          "height": 470
        },
        "id": "7bBoZDV8eOvL",
        "outputId": "7bd232ab-c17d-4e33-a32e-c6de0ec8f178"
      },
      "outputs": [
        {
          "data": {
            "text/plain": [
              "<Axes: xlabel='Marital_Status', ylabel='Purchase'>"
            ]
          },
          "execution_count": 11,
          "metadata": {},
          "output_type": "execute_result"
        },
        {
          "data": {
            "image/png": "[encoded data removed]",
            "text/plain": [
              "<Figure size 640x480 with 1 Axes>"
            ]
          },
          "metadata": {},
          "output_type": "display_data"
        }
      ],
      "source": [
        "sns.boxplot(x=\"Marital_Status\", y=\"Purchase\", data=df, hue=\"Gender\", )"
      ]
    },
    {
      "cell_type": "code",
      "execution_count": 12,
      "metadata": {
        "colab": {
          "base_uri": "https://localhost:8080/",
          "height": 470
        },
        "id": "onjp_H00eOvL",
        "outputId": "dd9df3fa-42de-4154-94f7-1d25e0e35135"
      },
      "outputs": [
        {
          "data": {
            "text/plain": [
              "<Axes: xlabel='City_Category', ylabel='Purchase'>"
            ]
          },
          "execution_count": 12,
          "metadata": {},
          "output_type": "execute_result"
        },
        {
          "data": {
            "image/png": "[encoded data removed]",
            "text/plain": [
              "<Figure size 640x480 with 1 Axes>"
            ]
          },
          "metadata": {},
          "output_type": "display_data"
        }
      ],
      "source": [
        "sns.boxplot(x=\"City_Category\", y=\"Purchase\", data=df, hue=\"Gender\", )"
      ]
    },
    {
      "cell_type": "code",
      "execution_count": 13,
      "metadata": {
        "colab": {
          "base_uri": "https://localhost:8080/",
          "height": 470
        },
        "id": "Z1S738yveOvL",
        "outputId": "b1d5a822-e370-41f7-b0f3-a728f012be5a"
      },
      "outputs": [
        {
          "data": {
            "text/plain": [
              "<Axes: xlabel='Age', ylabel='Purchase'>"
            ]
          },
          "execution_count": 13,
          "metadata": {},
          "output_type": "execute_result"
        },
        {
          "data": {
            "image/png": "[encoded data removed]",
            "text/plain": [
              "<Figure size 640x480 with 1 Axes>"
            ]
          },
          "metadata": {},
          "output_type": "display_data"
        }
      ],
      "source": [
        "sns.boxplot(x=df[\"Age\"], y=df[\"Purchase\"],hue=df[\"Gender\"])"
      ]
    },
    {
      "cell_type": "code",
      "execution_count": 14,
      "metadata": {
        "colab": {
          "base_uri": "https://localhost:8080/",
          "height": 470
        },
        "id": "9_LaaQhGeOvL",
        "outputId": "b2c479f6-cf75-4a60-ecd4-60c2a8e54622"
      },
      "outputs": [
        {
          "data": {
            "text/plain": [
              "<Axes: xlabel='Product_Category', ylabel='Purchase'>"
            ]
          },
          "execution_count": 14,
          "metadata": {},
          "output_type": "execute_result"
        },
        {
          "data": {
            "image/png": "[encoded data removed]",
            "text/plain": [
              "<Figure size 640x480 with 1 Axes>"
            ]
          },
          "metadata": {},
          "output_type": "display_data"
        }
      ],
      "source": [
        "sns.boxplot(x=df[\"Product_Category\"], y=df[\"Purchase\"],hue=df[\"Gender\"])"
      ]
    },
    {
      "cell_type": "code",
      "execution_count": 15,
      "metadata": {
        "colab": {
          "base_uri": "https://localhost:8080/",
          "height": 470
        },
        "id": "ZijnacdAeOvL",
        "outputId": "7828d8d2-e008-4806-8255-84d3db4d2d64"
      },
      "outputs": [
        {
          "data": {
            "text/plain": [
              "<Axes: xlabel='Occupation', ylabel='Purchase'>"
            ]
          },
          "execution_count": 15,
          "metadata": {},
          "output_type": "execute_result"
        },
        {
          "data": {
            "image/png": "[encoded data removed]",
            "text/plain": [
              "<Figure size 640x480 with 1 Axes>"
            ]
          },
          "metadata": {},
          "output_type": "display_data"
        }
      ],
      "source": [
        "sns.boxplot(x=df[\"Occupation\"], y=df[\"Purchase\"], hue=df[\"Gender\"])"
      ]
    },
    {
      "cell_type": "code",
      "execution_count": 16,
      "metadata": {
        "colab": {
          "base_uri": "https://localhost:8080/",
          "height": 206
        },
        "id": "t0eO-vyqeOvL",
        "outputId": "87631eee-d18c-43b8-9a1e-7328ddf6253b"
      },
      "outputs": [
        {
          "data": {
            "text/html": [
              "<div>\n",
              "<style scoped>\n",
              "    .dataframe tbody tr th:only-of-type {\n",
              "        vertical-align: middle;\n",
              "    }\n",
              "\n",
              "    .dataframe tbody tr th {\n",
              "        vertical-align: top;\n",
              "    }\n",
              "\n",
              "    .dataframe thead th {\n",
              "        text-align: right;\n",
              "    }\n",
              "</style>\n",
              "<table border=\"1\" class=\"dataframe\">\n",
              "  <thead>\n",
              "    <tr style=\"text-align: right;\">\n",
              "      <th></th>\n",
              "      <th>User_ID</th>\n",
              "      <th>Product_ID</th>\n",
              "      <th>Gender</th>\n",
              "      <th>Age</th>\n",
              "      <th>Occupation</th>\n",
              "      <th>City_Category</th>\n",
              "      <th>Stay_In_Current_City_Years</th>\n",
              "      <th>Marital_Status</th>\n",
              "      <th>Product_Category</th>\n",
              "      <th>Purchase</th>\n",
              "    </tr>\n",
              "  </thead>\n",
              "  <tbody>\n",
              "    <tr>\n",
              "      <th>0</th>\n",
              "      <td>1000001</td>\n",
              "      <td>P00069042</td>\n",
              "      <td>F</td>\n",
              "      <td>0-17</td>\n",
              "      <td>10</td>\n",
              "      <td>A</td>\n",
              "      <td>2</td>\n",
              "      <td>0</td>\n",
              "      <td>3</td>\n",
              "      <td>8370</td>\n",
              "    </tr>\n",
              "    <tr>\n",
              "      <th>1</th>\n",
              "      <td>1000001</td>\n",
              "      <td>P00248942</td>\n",
              "      <td>F</td>\n",
              "      <td>0-17</td>\n",
              "      <td>10</td>\n",
              "      <td>A</td>\n",
              "      <td>2</td>\n",
              "      <td>0</td>\n",
              "      <td>1</td>\n",
              "      <td>15200</td>\n",
              "    </tr>\n",
              "    <tr>\n",
              "      <th>2</th>\n",
              "      <td>1000001</td>\n",
              "      <td>P00087842</td>\n",
              "      <td>F</td>\n",
              "      <td>0-17</td>\n",
              "      <td>10</td>\n",
              "      <td>A</td>\n",
              "      <td>2</td>\n",
              "      <td>0</td>\n",
              "      <td>12</td>\n",
              "      <td>1422</td>\n",
              "    </tr>\n",
              "    <tr>\n",
              "      <th>3</th>\n",
              "      <td>1000001</td>\n",
              "      <td>P00085442</td>\n",
              "      <td>F</td>\n",
              "      <td>0-17</td>\n",
              "      <td>10</td>\n",
              "      <td>A</td>\n",
              "      <td>2</td>\n",
              "      <td>0</td>\n",
              "      <td>12</td>\n",
              "      <td>1057</td>\n",
              "    </tr>\n",
              "    <tr>\n",
              "      <th>4</th>\n",
              "      <td>1000002</td>\n",
              "      <td>P00285442</td>\n",
              "      <td>M</td>\n",
              "      <td>55+</td>\n",
              "      <td>16</td>\n",
              "      <td>C</td>\n",
              "      <td>4+</td>\n",
              "      <td>0</td>\n",
              "      <td>8</td>\n",
              "      <td>7969</td>\n",
              "    </tr>\n",
              "  </tbody>\n",
              "</table>\n",
              "</div>"
            ],
            "text/plain": [
              "   User_ID Product_ID Gender   Age  Occupation City_Category  \\\n",
              "0  1000001  P00069042      F  0-17          10             A   \n",
              "1  1000001  P00248942      F  0-17          10             A   \n",
              "2  1000001  P00087842      F  0-17          10             A   \n",
              "3  1000001  P00085442      F  0-17          10             A   \n",
              "4  1000002  P00285442      M   55+          16             C   \n",
              "\n",
              "  Stay_In_Current_City_Years  Marital_Status  Product_Category  Purchase  \n",
              "0                          2               0                 3      8370  \n",
              "1                          2               0                 1     15200  \n",
              "2                          2               0                12      1422  \n",
              "3                          2               0                12      1057  \n",
              "4                         4+               0                 8      7969  "
            ]
          },
          "execution_count": 16,
          "metadata": {},
          "output_type": "execute_result"
        }
      ],
      "source": [
        "df.head()"
      ]
    },
    {
      "cell_type": "code",
      "execution_count": 17,
      "metadata": {
        "colab": {
          "base_uri": "https://localhost:8080/",
          "height": 617
        },
        "id": "uPR575iTtSWl",
        "outputId": "fd1e8258-f085-475b-c577-4a962b4663c7"
      },
      "outputs": [
        {
          "data": {
            "text/plain": [
              "<Axes: >"
            ]
          },
          "execution_count": 17,
          "metadata": {},
          "output_type": "execute_result"
        },
        {
          "data": {
            "image/png": "[encoded data removed]",
            "text/plain": [
              "<Figure size 640x480 with 2 Axes>"
            ]
          },
          "metadata": {},
          "output_type": "display_data"
        }
      ],
      "source": [
        "df_numeric = df.drop(['Product_ID', 'Gender', 'Age', \"City_Category\", \"Stay_In_Current_City_Years\"], axis=1)\n",
        "sns.heatmap(df_numeric.corr(), annot=True)"
      ]
    },
    {
      "cell_type": "code",
      "execution_count": 18,
      "metadata": {
        "colab": {
          "base_uri": "https://localhost:8080/",
          "height": 143
        },
        "id": "jt_-UsE8tSZO",
        "outputId": "8583c098-04ea-49d2-ffc1-050b0283703e"
      },
      "outputs": [
        {
          "data": {
            "text/html": [
              "<div>\n",
              "<style scoped>\n",
              "    .dataframe tbody tr th:only-of-type {\n",
              "        vertical-align: middle;\n",
              "    }\n",
              "\n",
              "    .dataframe tbody tr th {\n",
              "        vertical-align: top;\n",
              "    }\n",
              "\n",
              "    .dataframe thead th {\n",
              "        text-align: right;\n",
              "    }\n",
              "</style>\n",
              "<table border=\"1\" class=\"dataframe\">\n",
              "  <thead>\n",
              "    <tr style=\"text-align: right;\">\n",
              "      <th></th>\n",
              "      <th>count</th>\n",
              "      <th>mean</th>\n",
              "      <th>std</th>\n",
              "      <th>min</th>\n",
              "      <th>25%</th>\n",
              "      <th>50%</th>\n",
              "      <th>75%</th>\n",
              "      <th>max</th>\n",
              "    </tr>\n",
              "    <tr>\n",
              "      <th>Gender</th>\n",
              "      <th></th>\n",
              "      <th></th>\n",
              "      <th></th>\n",
              "      <th></th>\n",
              "      <th></th>\n",
              "      <th></th>\n",
              "      <th></th>\n",
              "      <th></th>\n",
              "    </tr>\n",
              "  </thead>\n",
              "  <tbody>\n",
              "    <tr>\n",
              "      <th>F</th>\n",
              "      <td>135809.0</td>\n",
              "      <td>8734.565765</td>\n",
              "      <td>4767.233289</td>\n",
              "      <td>12.0</td>\n",
              "      <td>5433.0</td>\n",
              "      <td>7914.0</td>\n",
              "      <td>11400.0</td>\n",
              "      <td>23959.0</td>\n",
              "    </tr>\n",
              "    <tr>\n",
              "      <th>M</th>\n",
              "      <td>414259.0</td>\n",
              "      <td>9437.526040</td>\n",
              "      <td>5092.186210</td>\n",
              "      <td>12.0</td>\n",
              "      <td>5863.0</td>\n",
              "      <td>8098.0</td>\n",
              "      <td>12454.0</td>\n",
              "      <td>23961.0</td>\n",
              "    </tr>\n",
              "  </tbody>\n",
              "</table>\n",
              "</div>"
            ],
            "text/plain": [
              "           count         mean          std   min     25%     50%      75%  \\\n",
              "Gender                                                                      \n",
              "F       135809.0  8734.565765  4767.233289  12.0  5433.0  7914.0  11400.0   \n",
              "M       414259.0  9437.526040  5092.186210  12.0  5863.0  8098.0  12454.0   \n",
              "\n",
              "            max  \n",
              "Gender           \n",
              "F       23959.0  \n",
              "M       23961.0  "
            ]
          },
          "execution_count": 18,
          "metadata": {},
          "output_type": "execute_result"
        }
      ],
      "source": [
        "df.groupby([\"Gender\"])[\"Purchase\"].describe()"
      ]
    },
    {
      "cell_type": "code",
      "execution_count": 19,
      "metadata": {
        "colab": {
          "base_uri": "https://localhost:8080/",
          "height": 206
        },
        "id": "SflGhv-ytSbU",
        "outputId": "9a22c824-34a7-49c2-ed86-11f34c62f5a4"
      },
      "outputs": [
        {
          "data": {
            "text/html": [
              "<div>\n",
              "<style scoped>\n",
              "    .dataframe tbody tr th:only-of-type {\n",
              "        vertical-align: middle;\n",
              "    }\n",
              "\n",
              "    .dataframe tbody tr th {\n",
              "        vertical-align: top;\n",
              "    }\n",
              "\n",
              "    .dataframe thead th {\n",
              "        text-align: right;\n",
              "    }\n",
              "</style>\n",
              "<table border=\"1\" class=\"dataframe\">\n",
              "  <thead>\n",
              "    <tr style=\"text-align: right;\">\n",
              "      <th></th>\n",
              "      <th></th>\n",
              "      <th>count</th>\n",
              "      <th>mean</th>\n",
              "      <th>std</th>\n",
              "      <th>min</th>\n",
              "      <th>25%</th>\n",
              "      <th>50%</th>\n",
              "      <th>75%</th>\n",
              "      <th>max</th>\n",
              "    </tr>\n",
              "    <tr>\n",
              "      <th>Gender</th>\n",
              "      <th>Marital_Status</th>\n",
              "      <th></th>\n",
              "      <th></th>\n",
              "      <th></th>\n",
              "      <th></th>\n",
              "      <th></th>\n",
              "      <th></th>\n",
              "      <th></th>\n",
              "      <th></th>\n",
              "    </tr>\n",
              "  </thead>\n",
              "  <tbody>\n",
              "    <tr>\n",
              "      <th rowspan=\"2\" valign=\"top\">F</th>\n",
              "      <th>0</th>\n",
              "      <td>78821.0</td>\n",
              "      <td>8679.845815</td>\n",
              "      <td>4740.048367</td>\n",
              "      <td>12.0</td>\n",
              "      <td>5417.00</td>\n",
              "      <td>7895.0</td>\n",
              "      <td>11370.0</td>\n",
              "      <td>23955.0</td>\n",
              "    </tr>\n",
              "    <tr>\n",
              "      <th>1</th>\n",
              "      <td>56988.0</td>\n",
              "      <td>8810.249789</td>\n",
              "      <td>4803.594163</td>\n",
              "      <td>12.0</td>\n",
              "      <td>5456.75</td>\n",
              "      <td>7939.0</td>\n",
              "      <td>11451.0</td>\n",
              "      <td>23959.0</td>\n",
              "    </tr>\n",
              "    <tr>\n",
              "      <th rowspan=\"2\" valign=\"top\">M</th>\n",
              "      <th>0</th>\n",
              "      <td>245910.0</td>\n",
              "      <td>9453.756740</td>\n",
              "      <td>5101.803346</td>\n",
              "      <td>12.0</td>\n",
              "      <td>5854.00</td>\n",
              "      <td>8101.0</td>\n",
              "      <td>12543.0</td>\n",
              "      <td>23961.0</td>\n",
              "    </tr>\n",
              "    <tr>\n",
              "      <th>1</th>\n",
              "      <td>168349.0</td>\n",
              "      <td>9413.817605</td>\n",
              "      <td>5078.027482</td>\n",
              "      <td>12.0</td>\n",
              "      <td>5874.00</td>\n",
              "      <td>8094.0</td>\n",
              "      <td>12312.0</td>\n",
              "      <td>23961.0</td>\n",
              "    </tr>\n",
              "  </tbody>\n",
              "</table>\n",
              "</div>"
            ],
            "text/plain": [
              "                          count         mean          std   min      25%  \\\n",
              "Gender Marital_Status                                                      \n",
              "F      0                78821.0  8679.845815  4740.048367  12.0  5417.00   \n",
              "       1                56988.0  8810.249789  4803.594163  12.0  5456.75   \n",
              "M      0               245910.0  9453.756740  5101.803346  12.0  5854.00   \n",
              "       1               168349.0  9413.817605  5078.027482  12.0  5874.00   \n",
              "\n",
              "                          50%      75%      max  \n",
              "Gender Marital_Status                            \n",
              "F      0               7895.0  11370.0  23955.0  \n",
              "       1               7939.0  11451.0  23959.0  \n",
              "M      0               8101.0  12543.0  23961.0  \n",
              "       1               8094.0  12312.0  23961.0  "
            ]
          },
          "execution_count": 19,
          "metadata": {},
          "output_type": "execute_result"
        }
      ],
      "source": [
        "df.groupby([\"Gender\",\"Marital_Status\"])[\"Purchase\"].describe()"
      ]
    },
    {
      "cell_type": "code",
      "execution_count": 20,
      "metadata": {
        "colab": {
          "base_uri": "https://localhost:8080/",
          "height": 520
        },
        "id": "jENxq5HytSeJ",
        "outputId": "cb378cb8-2e37-4c5b-9231-28aff9b671e2"
      },
      "outputs": [
        {
          "data": {
            "text/html": [
              "<div>\n",
              "<style scoped>\n",
              "    .dataframe tbody tr th:only-of-type {\n",
              "        vertical-align: middle;\n",
              "    }\n",
              "\n",
              "    .dataframe tbody tr th {\n",
              "        vertical-align: top;\n",
              "    }\n",
              "\n",
              "    .dataframe thead th {\n",
              "        text-align: right;\n",
              "    }\n",
              "</style>\n",
              "<table border=\"1\" class=\"dataframe\">\n",
              "  <thead>\n",
              "    <tr style=\"text-align: right;\">\n",
              "      <th></th>\n",
              "      <th></th>\n",
              "      <th>count</th>\n",
              "      <th>mean</th>\n",
              "      <th>std</th>\n",
              "      <th>min</th>\n",
              "      <th>25%</th>\n",
              "      <th>50%</th>\n",
              "      <th>75%</th>\n",
              "      <th>max</th>\n",
              "    </tr>\n",
              "    <tr>\n",
              "      <th>Gender</th>\n",
              "      <th>Age</th>\n",
              "      <th></th>\n",
              "      <th></th>\n",
              "      <th></th>\n",
              "      <th></th>\n",
              "      <th></th>\n",
              "      <th></th>\n",
              "      <th></th>\n",
              "      <th></th>\n",
              "    </tr>\n",
              "  </thead>\n",
              "  <tbody>\n",
              "    <tr>\n",
              "      <th rowspan=\"7\" valign=\"top\">F</th>\n",
              "      <th>0-17</th>\n",
              "      <td>5083.0</td>\n",
              "      <td>8338.771985</td>\n",
              "      <td>4850.032944</td>\n",
              "      <td>12.0</td>\n",
              "      <td>5243.0</td>\n",
              "      <td>7824.0</td>\n",
              "      <td>10755.00</td>\n",
              "      <td>23866.0</td>\n",
              "    </tr>\n",
              "    <tr>\n",
              "      <th>18-25</th>\n",
              "      <td>24628.0</td>\n",
              "      <td>8343.180201</td>\n",
              "      <td>4688.707126</td>\n",
              "      <td>12.0</td>\n",
              "      <td>5274.0</td>\n",
              "      <td>7731.0</td>\n",
              "      <td>10779.25</td>\n",
              "      <td>23936.0</td>\n",
              "    </tr>\n",
              "    <tr>\n",
              "      <th>26-35</th>\n",
              "      <td>50752.0</td>\n",
              "      <td>8728.251754</td>\n",
              "      <td>4718.826059</td>\n",
              "      <td>12.0</td>\n",
              "      <td>5442.0</td>\n",
              "      <td>7886.0</td>\n",
              "      <td>11101.25</td>\n",
              "      <td>23955.0</td>\n",
              "    </tr>\n",
              "    <tr>\n",
              "      <th>36-45</th>\n",
              "      <td>27170.0</td>\n",
              "      <td>8959.844056</td>\n",
              "      <td>4833.296586</td>\n",
              "      <td>12.0</td>\n",
              "      <td>5821.0</td>\n",
              "      <td>7984.0</td>\n",
              "      <td>11697.75</td>\n",
              "      <td>23948.0</td>\n",
              "    </tr>\n",
              "    <tr>\n",
              "      <th>46-50</th>\n",
              "      <td>13199.0</td>\n",
              "      <td>8842.098947</td>\n",
              "      <td>4795.838799</td>\n",
              "      <td>12.0</td>\n",
              "      <td>5472.5</td>\n",
              "      <td>7957.0</td>\n",
              "      <td>11601.00</td>\n",
              "      <td>23920.0</td>\n",
              "    </tr>\n",
              "    <tr>\n",
              "      <th>51-55</th>\n",
              "      <td>9894.0</td>\n",
              "      <td>9042.449666</td>\n",
              "      <td>4848.718221</td>\n",
              "      <td>12.0</td>\n",
              "      <td>5989.0</td>\n",
              "      <td>8002.0</td>\n",
              "      <td>11375.75</td>\n",
              "      <td>23959.0</td>\n",
              "    </tr>\n",
              "    <tr>\n",
              "      <th>55+</th>\n",
              "      <td>5083.0</td>\n",
              "      <td>9007.036199</td>\n",
              "      <td>4801.556874</td>\n",
              "      <td>12.0</td>\n",
              "      <td>6039.5</td>\n",
              "      <td>8084.0</td>\n",
              "      <td>10067.00</td>\n",
              "      <td>23899.0</td>\n",
              "    </tr>\n",
              "    <tr>\n",
              "      <th rowspan=\"7\" valign=\"top\">M</th>\n",
              "      <th>0-17</th>\n",
              "      <td>10019.0</td>\n",
              "      <td>9235.173670</td>\n",
              "      <td>5212.954953</td>\n",
              "      <td>12.0</td>\n",
              "      <td>5372.0</td>\n",
              "      <td>8080.0</td>\n",
              "      <td>12121.50</td>\n",
              "      <td>23955.0</td>\n",
              "    </tr>\n",
              "    <tr>\n",
              "      <th>18-25</th>\n",
              "      <td>75032.0</td>\n",
              "      <td>9440.942971</td>\n",
              "      <td>5113.697699</td>\n",
              "      <td>12.0</td>\n",
              "      <td>5475.0</td>\n",
              "      <td>8119.0</td>\n",
              "      <td>12561.00</td>\n",
              "      <td>23958.0</td>\n",
              "    </tr>\n",
              "    <tr>\n",
              "      <th>26-35</th>\n",
              "      <td>168835.0</td>\n",
              "      <td>9410.337578</td>\n",
              "      <td>5084.399369</td>\n",
              "      <td>12.0</td>\n",
              "      <td>5776.0</td>\n",
              "      <td>8082.0</td>\n",
              "      <td>12355.00</td>\n",
              "      <td>23961.0</td>\n",
              "    </tr>\n",
              "    <tr>\n",
              "      <th>36-45</th>\n",
              "      <td>82843.0</td>\n",
              "      <td>9453.193643</td>\n",
              "      <td>5077.688456</td>\n",
              "      <td>12.0</td>\n",
              "      <td>5894.0</td>\n",
              "      <td>8092.0</td>\n",
              "      <td>12535.50</td>\n",
              "      <td>23960.0</td>\n",
              "    </tr>\n",
              "    <tr>\n",
              "      <th>46-50</th>\n",
              "      <td>32502.0</td>\n",
              "      <td>9357.471509</td>\n",
              "      <td>5027.596264</td>\n",
              "      <td>12.0</td>\n",
              "      <td>5921.0</td>\n",
              "      <td>8074.5</td>\n",
              "      <td>12116.00</td>\n",
              "      <td>23960.0</td>\n",
              "    </tr>\n",
              "    <tr>\n",
              "      <th>51-55</th>\n",
              "      <td>28607.0</td>\n",
              "      <td>9705.094802</td>\n",
              "      <td>5156.494783</td>\n",
              "      <td>12.0</td>\n",
              "      <td>6027.0</td>\n",
              "      <td>8398.0</td>\n",
              "      <td>12965.50</td>\n",
              "      <td>23960.0</td>\n",
              "    </tr>\n",
              "    <tr>\n",
              "      <th>55+</th>\n",
              "      <td>16421.0</td>\n",
              "      <td>9438.195603</td>\n",
              "      <td>5070.529241</td>\n",
              "      <td>12.0</td>\n",
              "      <td>6012.0</td>\n",
              "      <td>8115.0</td>\n",
              "      <td>12100.00</td>\n",
              "      <td>23960.0</td>\n",
              "    </tr>\n",
              "  </tbody>\n",
              "</table>\n",
              "</div>"
            ],
            "text/plain": [
              "                 count         mean          std   min     25%     50%  \\\n",
              "Gender Age                                                               \n",
              "F      0-17     5083.0  8338.771985  4850.032944  12.0  5243.0  7824.0   \n",
              "       18-25   24628.0  8343.180201  4688.707126  12.0  5274.0  7731.0   \n",
              "       26-35   50752.0  8728.251754  4718.826059  12.0  5442.0  7886.0   \n",
              "       36-45   27170.0  8959.844056  4833.296586  12.0  5821.0  7984.0   \n",
              "       46-50   13199.0  8842.098947  4795.838799  12.0  5472.5  7957.0   \n",
              "       51-55    9894.0  9042.449666  4848.718221  12.0  5989.0  8002.0   \n",
              "       55+      5083.0  9007.036199  4801.556874  12.0  6039.5  8084.0   \n",
              "M      0-17    10019.0  9235.173670  5212.954953  12.0  5372.0  8080.0   \n",
              "       18-25   75032.0  9440.942971  5113.697699  12.0  5475.0  8119.0   \n",
              "       26-35  168835.0  9410.337578  5084.399369  12.0  5776.0  8082.0   \n",
              "       36-45   82843.0  9453.193643  5077.688456  12.0  5894.0  8092.0   \n",
              "       46-50   32502.0  9357.471509  5027.596264  12.0  5921.0  8074.5   \n",
              "       51-55   28607.0  9705.094802  5156.494783  12.0  6027.0  8398.0   \n",
              "       55+     16421.0  9438.195603  5070.529241  12.0  6012.0  8115.0   \n",
              "\n",
              "                   75%      max  \n",
              "Gender Age                       \n",
              "F      0-17   10755.00  23866.0  \n",
              "       18-25  10779.25  23936.0  \n",
              "       26-35  11101.25  23955.0  \n",
              "       36-45  11697.75  23948.0  \n",
              "       46-50  11601.00  23920.0  \n",
              "       51-55  11375.75  23959.0  \n",
              "       55+    10067.00  23899.0  \n",
              "M      0-17   12121.50  23955.0  \n",
              "       18-25  12561.00  23958.0  \n",
              "       26-35  12355.00  23961.0  \n",
              "       36-45  12535.50  23960.0  \n",
              "       46-50  12116.00  23960.0  \n",
              "       51-55  12965.50  23960.0  \n",
              "       55+    12100.00  23960.0  "
            ]
          },
          "execution_count": 20,
          "metadata": {},
          "output_type": "execute_result"
        }
      ],
      "source": [
        "df.groupby([\"Gender\",\"Age\"])[\"Purchase\"].describe()"
      ]
    },
    {
      "cell_type": "code",
      "execution_count": 21,
      "metadata": {
        "colab": {
          "base_uri": "https://localhost:8080/",
          "height": 739
        },
        "id": "MJGlZ6en-8l-",
        "outputId": "66c3af84-f29f-4eb0-e533-3fbe106d3dc2"
      },
      "outputs": [
        {
          "data": {
            "text/html": [
              "<div>\n",
              "<style scoped>\n",
              "    .dataframe tbody tr th:only-of-type {\n",
              "        vertical-align: middle;\n",
              "    }\n",
              "\n",
              "    .dataframe tbody tr th {\n",
              "        vertical-align: top;\n",
              "    }\n",
              "\n",
              "    .dataframe thead th {\n",
              "        text-align: right;\n",
              "    }\n",
              "</style>\n",
              "<table border=\"1\" class=\"dataframe\">\n",
              "  <thead>\n",
              "    <tr style=\"text-align: right;\">\n",
              "      <th>Gender</th>\n",
              "      <th>F</th>\n",
              "      <th>M</th>\n",
              "      <th>All</th>\n",
              "    </tr>\n",
              "    <tr>\n",
              "      <th>Product_Category</th>\n",
              "      <th></th>\n",
              "      <th></th>\n",
              "      <th></th>\n",
              "    </tr>\n",
              "  </thead>\n",
              "  <tbody>\n",
              "    <tr>\n",
              "      <th>1</th>\n",
              "      <td>24831</td>\n",
              "      <td>115547</td>\n",
              "      <td>140378</td>\n",
              "    </tr>\n",
              "    <tr>\n",
              "      <th>2</th>\n",
              "      <td>5658</td>\n",
              "      <td>18206</td>\n",
              "      <td>23864</td>\n",
              "    </tr>\n",
              "    <tr>\n",
              "      <th>3</th>\n",
              "      <td>6006</td>\n",
              "      <td>14207</td>\n",
              "      <td>20213</td>\n",
              "    </tr>\n",
              "    <tr>\n",
              "      <th>4</th>\n",
              "      <td>3639</td>\n",
              "      <td>8114</td>\n",
              "      <td>11753</td>\n",
              "    </tr>\n",
              "    <tr>\n",
              "      <th>5</th>\n",
              "      <td>41961</td>\n",
              "      <td>108972</td>\n",
              "      <td>150933</td>\n",
              "    </tr>\n",
              "    <tr>\n",
              "      <th>6</th>\n",
              "      <td>4559</td>\n",
              "      <td>15907</td>\n",
              "      <td>20466</td>\n",
              "    </tr>\n",
              "    <tr>\n",
              "      <th>7</th>\n",
              "      <td>943</td>\n",
              "      <td>2778</td>\n",
              "      <td>3721</td>\n",
              "    </tr>\n",
              "    <tr>\n",
              "      <th>8</th>\n",
              "      <td>33558</td>\n",
              "      <td>80367</td>\n",
              "      <td>113925</td>\n",
              "    </tr>\n",
              "    <tr>\n",
              "      <th>9</th>\n",
              "      <td>70</td>\n",
              "      <td>340</td>\n",
              "      <td>410</td>\n",
              "    </tr>\n",
              "    <tr>\n",
              "      <th>10</th>\n",
              "      <td>1162</td>\n",
              "      <td>3963</td>\n",
              "      <td>5125</td>\n",
              "    </tr>\n",
              "    <tr>\n",
              "      <th>11</th>\n",
              "      <td>4739</td>\n",
              "      <td>19548</td>\n",
              "      <td>24287</td>\n",
              "    </tr>\n",
              "    <tr>\n",
              "      <th>12</th>\n",
              "      <td>1532</td>\n",
              "      <td>2415</td>\n",
              "      <td>3947</td>\n",
              "    </tr>\n",
              "    <tr>\n",
              "      <th>13</th>\n",
              "      <td>1462</td>\n",
              "      <td>4087</td>\n",
              "      <td>5549</td>\n",
              "    </tr>\n",
              "    <tr>\n",
              "      <th>14</th>\n",
              "      <td>623</td>\n",
              "      <td>900</td>\n",
              "      <td>1523</td>\n",
              "    </tr>\n",
              "    <tr>\n",
              "      <th>15</th>\n",
              "      <td>1046</td>\n",
              "      <td>5244</td>\n",
              "      <td>6290</td>\n",
              "    </tr>\n",
              "    <tr>\n",
              "      <th>16</th>\n",
              "      <td>2402</td>\n",
              "      <td>7426</td>\n",
              "      <td>9828</td>\n",
              "    </tr>\n",
              "    <tr>\n",
              "      <th>17</th>\n",
              "      <td>62</td>\n",
              "      <td>516</td>\n",
              "      <td>578</td>\n",
              "    </tr>\n",
              "    <tr>\n",
              "      <th>18</th>\n",
              "      <td>382</td>\n",
              "      <td>2743</td>\n",
              "      <td>3125</td>\n",
              "    </tr>\n",
              "    <tr>\n",
              "      <th>19</th>\n",
              "      <td>451</td>\n",
              "      <td>1152</td>\n",
              "      <td>1603</td>\n",
              "    </tr>\n",
              "    <tr>\n",
              "      <th>20</th>\n",
              "      <td>723</td>\n",
              "      <td>1827</td>\n",
              "      <td>2550</td>\n",
              "    </tr>\n",
              "    <tr>\n",
              "      <th>All</th>\n",
              "      <td>135809</td>\n",
              "      <td>414259</td>\n",
              "      <td>550068</td>\n",
              "    </tr>\n",
              "  </tbody>\n",
              "</table>\n",
              "</div>"
            ],
            "text/plain": [
              "Gender                 F       M     All\n",
              "Product_Category                        \n",
              "1                  24831  115547  140378\n",
              "2                   5658   18206   23864\n",
              "3                   6006   14207   20213\n",
              "4                   3639    8114   11753\n",
              "5                  41961  108972  150933\n",
              "6                   4559   15907   20466\n",
              "7                    943    2778    3721\n",
              "8                  33558   80367  113925\n",
              "9                     70     340     410\n",
              "10                  1162    3963    5125\n",
              "11                  4739   19548   24287\n",
              "12                  1532    2415    3947\n",
              "13                  1462    4087    5549\n",
              "14                   623     900    1523\n",
              "15                  1046    5244    6290\n",
              "16                  2402    7426    9828\n",
              "17                    62     516     578\n",
              "18                   382    2743    3125\n",
              "19                   451    1152    1603\n",
              "20                   723    1827    2550\n",
              "All               135809  414259  550068"
            ]
          },
          "execution_count": 21,
          "metadata": {},
          "output_type": "execute_result"
        }
      ],
      "source": [
        "pd.crosstab(index=df[\"Product_Category\"], columns=df[\"Gender\"], margins=True)"
      ]
    },
    {
      "cell_type": "code",
      "execution_count": 22,
      "metadata": {
        "colab": {
          "base_uri": "https://localhost:8080/",
          "height": 739
        },
        "id": "j2ZYt8OH95mc",
        "outputId": "9cde0cc3-7322-4ff7-c3da-7fe29819d738"
      },
      "outputs": [
        {
          "data": {
            "text/html": [
              "<div>\n",
              "<style scoped>\n",
              "    .dataframe tbody tr th:only-of-type {\n",
              "        vertical-align: middle;\n",
              "    }\n",
              "\n",
              "    .dataframe tbody tr th {\n",
              "        vertical-align: top;\n",
              "    }\n",
              "\n",
              "    .dataframe thead th {\n",
              "        text-align: right;\n",
              "    }\n",
              "</style>\n",
              "<table border=\"1\" class=\"dataframe\">\n",
              "  <thead>\n",
              "    <tr style=\"text-align: right;\">\n",
              "      <th>Gender</th>\n",
              "      <th>F</th>\n",
              "      <th>M</th>\n",
              "    </tr>\n",
              "    <tr>\n",
              "      <th>Product_Category</th>\n",
              "      <th></th>\n",
              "      <th></th>\n",
              "    </tr>\n",
              "  </thead>\n",
              "  <tbody>\n",
              "    <tr>\n",
              "      <th>1</th>\n",
              "      <td>0.176887</td>\n",
              "      <td>0.823113</td>\n",
              "    </tr>\n",
              "    <tr>\n",
              "      <th>2</th>\n",
              "      <td>0.237094</td>\n",
              "      <td>0.762906</td>\n",
              "    </tr>\n",
              "    <tr>\n",
              "      <th>3</th>\n",
              "      <td>0.297136</td>\n",
              "      <td>0.702864</td>\n",
              "    </tr>\n",
              "    <tr>\n",
              "      <th>4</th>\n",
              "      <td>0.309623</td>\n",
              "      <td>0.690377</td>\n",
              "    </tr>\n",
              "    <tr>\n",
              "      <th>5</th>\n",
              "      <td>0.278011</td>\n",
              "      <td>0.721989</td>\n",
              "    </tr>\n",
              "    <tr>\n",
              "      <th>6</th>\n",
              "      <td>0.222760</td>\n",
              "      <td>0.777240</td>\n",
              "    </tr>\n",
              "    <tr>\n",
              "      <th>7</th>\n",
              "      <td>0.253426</td>\n",
              "      <td>0.746574</td>\n",
              "    </tr>\n",
              "    <tr>\n",
              "      <th>8</th>\n",
              "      <td>0.294562</td>\n",
              "      <td>0.705438</td>\n",
              "    </tr>\n",
              "    <tr>\n",
              "      <th>9</th>\n",
              "      <td>0.170732</td>\n",
              "      <td>0.829268</td>\n",
              "    </tr>\n",
              "    <tr>\n",
              "      <th>10</th>\n",
              "      <td>0.226732</td>\n",
              "      <td>0.773268</td>\n",
              "    </tr>\n",
              "    <tr>\n",
              "      <th>11</th>\n",
              "      <td>0.195125</td>\n",
              "      <td>0.804875</td>\n",
              "    </tr>\n",
              "    <tr>\n",
              "      <th>12</th>\n",
              "      <td>0.388143</td>\n",
              "      <td>0.611857</td>\n",
              "    </tr>\n",
              "    <tr>\n",
              "      <th>13</th>\n",
              "      <td>0.263471</td>\n",
              "      <td>0.736529</td>\n",
              "    </tr>\n",
              "    <tr>\n",
              "      <th>14</th>\n",
              "      <td>0.409061</td>\n",
              "      <td>0.590939</td>\n",
              "    </tr>\n",
              "    <tr>\n",
              "      <th>15</th>\n",
              "      <td>0.166296</td>\n",
              "      <td>0.833704</td>\n",
              "    </tr>\n",
              "    <tr>\n",
              "      <th>16</th>\n",
              "      <td>0.244404</td>\n",
              "      <td>0.755596</td>\n",
              "    </tr>\n",
              "    <tr>\n",
              "      <th>17</th>\n",
              "      <td>0.107266</td>\n",
              "      <td>0.892734</td>\n",
              "    </tr>\n",
              "    <tr>\n",
              "      <th>18</th>\n",
              "      <td>0.122240</td>\n",
              "      <td>0.877760</td>\n",
              "    </tr>\n",
              "    <tr>\n",
              "      <th>19</th>\n",
              "      <td>0.281347</td>\n",
              "      <td>0.718653</td>\n",
              "    </tr>\n",
              "    <tr>\n",
              "      <th>20</th>\n",
              "      <td>0.283529</td>\n",
              "      <td>0.716471</td>\n",
              "    </tr>\n",
              "    <tr>\n",
              "      <th>All</th>\n",
              "      <td>0.246895</td>\n",
              "      <td>0.753105</td>\n",
              "    </tr>\n",
              "  </tbody>\n",
              "</table>\n",
              "</div>"
            ],
            "text/plain": [
              "Gender                   F         M\n",
              "Product_Category                    \n",
              "1                 0.176887  0.823113\n",
              "2                 0.237094  0.762906\n",
              "3                 0.297136  0.702864\n",
              "4                 0.309623  0.690377\n",
              "5                 0.278011  0.721989\n",
              "6                 0.222760  0.777240\n",
              "7                 0.253426  0.746574\n",
              "8                 0.294562  0.705438\n",
              "9                 0.170732  0.829268\n",
              "10                0.226732  0.773268\n",
              "11                0.195125  0.804875\n",
              "12                0.388143  0.611857\n",
              "13                0.263471  0.736529\n",
              "14                0.409061  0.590939\n",
              "15                0.166296  0.833704\n",
              "16                0.244404  0.755596\n",
              "17                0.107266  0.892734\n",
              "18                0.122240  0.877760\n",
              "19                0.281347  0.718653\n",
              "20                0.283529  0.716471\n",
              "All               0.246895  0.753105"
            ]
          },
          "execution_count": 22,
          "metadata": {},
          "output_type": "execute_result"
        }
      ],
      "source": [
        "pd.crosstab(index=df[\"Product_Category\"], columns=df[\"Gender\"], margins=True, normalize=\"index\")"
      ]
    },
    {
      "cell_type": "code",
      "execution_count": 23,
      "metadata": {
        "colab": {
          "base_uri": "https://localhost:8080/",
          "height": 708
        },
        "id": "k-8JbNci-v1r",
        "outputId": "c3f25c60-04d0-467d-bba6-6fd384dcd1bf"
      },
      "outputs": [
        {
          "data": {
            "text/html": [
              "<div>\n",
              "<style scoped>\n",
              "    .dataframe tbody tr th:only-of-type {\n",
              "        vertical-align: middle;\n",
              "    }\n",
              "\n",
              "    .dataframe tbody tr th {\n",
              "        vertical-align: top;\n",
              "    }\n",
              "\n",
              "    .dataframe thead th {\n",
              "        text-align: right;\n",
              "    }\n",
              "</style>\n",
              "<table border=\"1\" class=\"dataframe\">\n",
              "  <thead>\n",
              "    <tr style=\"text-align: right;\">\n",
              "      <th>Gender</th>\n",
              "      <th>F</th>\n",
              "      <th>M</th>\n",
              "      <th>All</th>\n",
              "    </tr>\n",
              "    <tr>\n",
              "      <th>Product_Category</th>\n",
              "      <th></th>\n",
              "      <th></th>\n",
              "      <th></th>\n",
              "    </tr>\n",
              "  </thead>\n",
              "  <tbody>\n",
              "    <tr>\n",
              "      <th>1</th>\n",
              "      <td>0.182838</td>\n",
              "      <td>0.278925</td>\n",
              "      <td>0.255201</td>\n",
              "    </tr>\n",
              "    <tr>\n",
              "      <th>2</th>\n",
              "      <td>0.041661</td>\n",
              "      <td>0.043948</td>\n",
              "      <td>0.043384</td>\n",
              "    </tr>\n",
              "    <tr>\n",
              "      <th>3</th>\n",
              "      <td>0.044224</td>\n",
              "      <td>0.034295</td>\n",
              "      <td>0.036746</td>\n",
              "    </tr>\n",
              "    <tr>\n",
              "      <th>4</th>\n",
              "      <td>0.026795</td>\n",
              "      <td>0.019587</td>\n",
              "      <td>0.021366</td>\n",
              "    </tr>\n",
              "    <tr>\n",
              "      <th>5</th>\n",
              "      <td>0.308971</td>\n",
              "      <td>0.263053</td>\n",
              "      <td>0.274390</td>\n",
              "    </tr>\n",
              "    <tr>\n",
              "      <th>6</th>\n",
              "      <td>0.033569</td>\n",
              "      <td>0.038399</td>\n",
              "      <td>0.037206</td>\n",
              "    </tr>\n",
              "    <tr>\n",
              "      <th>7</th>\n",
              "      <td>0.006944</td>\n",
              "      <td>0.006706</td>\n",
              "      <td>0.006765</td>\n",
              "    </tr>\n",
              "    <tr>\n",
              "      <th>8</th>\n",
              "      <td>0.247097</td>\n",
              "      <td>0.194002</td>\n",
              "      <td>0.207111</td>\n",
              "    </tr>\n",
              "    <tr>\n",
              "      <th>9</th>\n",
              "      <td>0.000515</td>\n",
              "      <td>0.000821</td>\n",
              "      <td>0.000745</td>\n",
              "    </tr>\n",
              "    <tr>\n",
              "      <th>10</th>\n",
              "      <td>0.008556</td>\n",
              "      <td>0.009566</td>\n",
              "      <td>0.009317</td>\n",
              "    </tr>\n",
              "    <tr>\n",
              "      <th>11</th>\n",
              "      <td>0.034895</td>\n",
              "      <td>0.047188</td>\n",
              "      <td>0.044153</td>\n",
              "    </tr>\n",
              "    <tr>\n",
              "      <th>12</th>\n",
              "      <td>0.011281</td>\n",
              "      <td>0.005830</td>\n",
              "      <td>0.007175</td>\n",
              "    </tr>\n",
              "    <tr>\n",
              "      <th>13</th>\n",
              "      <td>0.010765</td>\n",
              "      <td>0.009866</td>\n",
              "      <td>0.010088</td>\n",
              "    </tr>\n",
              "    <tr>\n",
              "      <th>14</th>\n",
              "      <td>0.004587</td>\n",
              "      <td>0.002173</td>\n",
              "      <td>0.002769</td>\n",
              "    </tr>\n",
              "    <tr>\n",
              "      <th>15</th>\n",
              "      <td>0.007702</td>\n",
              "      <td>0.012659</td>\n",
              "      <td>0.011435</td>\n",
              "    </tr>\n",
              "    <tr>\n",
              "      <th>16</th>\n",
              "      <td>0.017687</td>\n",
              "      <td>0.017926</td>\n",
              "      <td>0.017867</td>\n",
              "    </tr>\n",
              "    <tr>\n",
              "      <th>17</th>\n",
              "      <td>0.000457</td>\n",
              "      <td>0.001246</td>\n",
              "      <td>0.001051</td>\n",
              "    </tr>\n",
              "    <tr>\n",
              "      <th>18</th>\n",
              "      <td>0.002813</td>\n",
              "      <td>0.006621</td>\n",
              "      <td>0.005681</td>\n",
              "    </tr>\n",
              "    <tr>\n",
              "      <th>19</th>\n",
              "      <td>0.003321</td>\n",
              "      <td>0.002781</td>\n",
              "      <td>0.002914</td>\n",
              "    </tr>\n",
              "    <tr>\n",
              "      <th>20</th>\n",
              "      <td>0.005324</td>\n",
              "      <td>0.004410</td>\n",
              "      <td>0.004636</td>\n",
              "    </tr>\n",
              "  </tbody>\n",
              "</table>\n",
              "</div>"
            ],
            "text/plain": [
              "Gender                   F         M       All\n",
              "Product_Category                              \n",
              "1                 0.182838  0.278925  0.255201\n",
              "2                 0.041661  0.043948  0.043384\n",
              "3                 0.044224  0.034295  0.036746\n",
              "4                 0.026795  0.019587  0.021366\n",
              "5                 0.308971  0.263053  0.274390\n",
              "6                 0.033569  0.038399  0.037206\n",
              "7                 0.006944  0.006706  0.006765\n",
              "8                 0.247097  0.194002  0.207111\n",
              "9                 0.000515  0.000821  0.000745\n",
              "10                0.008556  0.009566  0.009317\n",
              "11                0.034895  0.047188  0.044153\n",
              "12                0.011281  0.005830  0.007175\n",
              "13                0.010765  0.009866  0.010088\n",
              "14                0.004587  0.002173  0.002769\n",
              "15                0.007702  0.012659  0.011435\n",
              "16                0.017687  0.017926  0.017867\n",
              "17                0.000457  0.001246  0.001051\n",
              "18                0.002813  0.006621  0.005681\n",
              "19                0.003321  0.002781  0.002914\n",
              "20                0.005324  0.004410  0.004636"
            ]
          },
          "execution_count": 23,
          "metadata": {},
          "output_type": "execute_result"
        }
      ],
      "source": [
        "pd.crosstab(index=df[\"Product_Category\"], columns=df[\"Gender\"], margins=True, normalize=\"columns\")"
      ]
    },
    {
      "cell_type": "code",
      "execution_count": null,
      "metadata": {
        "id": "VOkLVXlt95pO"
      },
      "outputs": [],
      "source": []
    },
    {
      "cell_type": "code",
      "execution_count": 24,
      "metadata": {
        "colab": {
          "base_uri": "https://localhost:8080/",
          "height": 0
        },
        "id": "8L3z83PAeOvL",
        "outputId": "5e866ecb-7eb9-4e60-902e-a08f63245019"
      },
      "outputs": [
        {
          "data": {
            "text/plain": [
              "Gender\n",
              "M    414259\n",
              "F    135809\n",
              "Name: count, dtype: int64"
            ]
          },
          "execution_count": 24,
          "metadata": {},
          "output_type": "execute_result"
        }
      ],
      "source": [
        "df[\"Gender\"].value_counts()"
      ]
    },
    {
      "cell_type": "code",
      "execution_count": 25,
      "metadata": {
        "colab": {
          "base_uri": "https://localhost:8080/",
          "height": 0
        },
        "id": "oxukYoM-BMVn",
        "outputId": "36fb2969-0fbd-4486-cbeb-1804ae690e12"
      },
      "outputs": [
        {
          "data": {
            "text/plain": [
              "Marital_Status\n",
              "0    324731\n",
              "1    225337\n",
              "Name: count, dtype: int64"
            ]
          },
          "execution_count": 25,
          "metadata": {},
          "output_type": "execute_result"
        }
      ],
      "source": [
        "df[\"Marital_Status\"].value_counts()"
      ]
    },
    {
      "cell_type": "code",
      "execution_count": 26,
      "metadata": {
        "colab": {
          "base_uri": "https://localhost:8080/",
          "height": 0
        },
        "id": "ND78niVaBTyA",
        "outputId": "d7dc0930-7f6b-4338-8cf0-a29abcd621cd"
      },
      "outputs": [
        {
          "data": {
            "text/plain": [
              "Age\n",
              "26-35    219587\n",
              "36-45    110013\n",
              "18-25     99660\n",
              "46-50     45701\n",
              "51-55     38501\n",
              "55+       21504\n",
              "0-17      15102\n",
              "Name: count, dtype: int64"
            ]
          },
          "execution_count": 26,
          "metadata": {},
          "output_type": "execute_result"
        }
      ],
      "source": [
        "df[\"Age\"].value_counts()"
      ]
    },
    {
      "cell_type": "code",
      "execution_count": 27,
      "metadata": {
        "colab": {
          "base_uri": "https://localhost:8080/",
          "height": 0
        },
        "id": "IWmbvHLneOvL",
        "outputId": "854e660f-b40e-4cd6-8633-73d7c29a4b59"
      },
      "outputs": [
        {
          "data": {
            "text/plain": [
              "9263.968712959126"
            ]
          },
          "execution_count": 27,
          "metadata": {},
          "output_type": "execute_result"
        }
      ],
      "source": [
        "np.mean(df[\"Purchase\"])"
      ]
    },
    {
      "cell_type": "code",
      "execution_count": 28,
      "metadata": {
        "colab": {
          "base_uri": "https://localhost:8080/",
          "height": 0
        },
        "id": "YbJORuZWeOvM",
        "outputId": "eccf11a8-3e74-451b-ec2e-be926009b12e"
      },
      "outputs": [
        {
          "data": {
            "text/plain": [
              "5023.060827959928"
            ]
          },
          "execution_count": 28,
          "metadata": {},
          "output_type": "execute_result"
        }
      ],
      "source": [
        "np.std(df[\"Purchase\"])"
      ]
    },
    {
      "cell_type": "code",
      "execution_count": 29,
      "metadata": {
        "colab": {
          "base_uri": "https://localhost:8080/",
          "height": 0
        },
        "id": "NlQzrp-IeOvM",
        "outputId": "d1ac181b-ad22-4761-8fb8-04e1859ef7e3"
      },
      "outputs": [
        {
          "data": {
            "text/plain": [
              "8734.565765155476"
            ]
          },
          "execution_count": 29,
          "metadata": {},
          "output_type": "execute_result"
        }
      ],
      "source": [
        "## Female average spending\n",
        "np.mean(df.loc[df[\"Gender\"]==\"F\"][\"Purchase\"])"
      ]
    },
    {
      "cell_type": "code",
      "execution_count": 30,
      "metadata": {
        "colab": {
          "base_uri": "https://localhost:8080/",
          "height": 0
        },
        "id": "nIc-GylleOvM",
        "outputId": "119ecb5a-eb7f-4149-e9ec-fe9cb0db9032"
      },
      "outputs": [
        {
          "data": {
            "text/plain": [
              "9437.526040472265"
            ]
          },
          "execution_count": 30,
          "metadata": {},
          "output_type": "execute_result"
        }
      ],
      "source": [
        "## Male average spending\n",
        "np.mean(df.loc[df[\"Gender\"]==\"M\"][\"Purchase\"])"
      ]
    },
    {
      "cell_type": "code",
      "execution_count": 31,
      "metadata": {
        "id": "deyQYJq8eOvM"
      },
      "outputs": [],
      "source": [
        "# Define the sample sizes for each gender\n",
        "female_sample_size = 5000  # Adjust as per your desired sample size\n",
        "male_sample_size = 5000  # Adjust as per your desired sample size\n",
        "\n",
        "# Stratified sampling\n",
        "female_data = df[df['Gender'] == 'F'].sample(n=female_sample_size, random_state=4)\n",
        "male_data = df[df['Gender'] == 'M'].sample(n=male_sample_size, random_state=4)\n",
        "\n",
        "# Combine the sampled data\n",
        "sampled_data = pd.concat([female_data, male_data])"
      ]
    },
    {
      "cell_type": "code",
      "execution_count": 32,
      "metadata": {
        "colab": {
          "base_uri": "https://localhost:8080/",
          "height": 206
        },
        "id": "UsI3F1j1tgB_",
        "outputId": "3a713108-dca9-4c5d-b7be-3107f8ca4038"
      },
      "outputs": [
        {
          "data": {
            "text/html": [
              "<div>\n",
              "<style scoped>\n",
              "    .dataframe tbody tr th:only-of-type {\n",
              "        vertical-align: middle;\n",
              "    }\n",
              "\n",
              "    .dataframe tbody tr th {\n",
              "        vertical-align: top;\n",
              "    }\n",
              "\n",
              "    .dataframe thead th {\n",
              "        text-align: right;\n",
              "    }\n",
              "</style>\n",
              "<table border=\"1\" class=\"dataframe\">\n",
              "  <thead>\n",
              "    <tr style=\"text-align: right;\">\n",
              "      <th></th>\n",
              "      <th>User_ID</th>\n",
              "      <th>Product_ID</th>\n",
              "      <th>Gender</th>\n",
              "      <th>Age</th>\n",
              "      <th>Occupation</th>\n",
              "      <th>City_Category</th>\n",
              "      <th>Stay_In_Current_City_Years</th>\n",
              "      <th>Marital_Status</th>\n",
              "      <th>Product_Category</th>\n",
              "      <th>Purchase</th>\n",
              "    </tr>\n",
              "  </thead>\n",
              "  <tbody>\n",
              "    <tr>\n",
              "      <th>199151</th>\n",
              "      <td>1000759</td>\n",
              "      <td>P00052642</td>\n",
              "      <td>F</td>\n",
              "      <td>55+</td>\n",
              "      <td>3</td>\n",
              "      <td>C</td>\n",
              "      <td>1</td>\n",
              "      <td>0</td>\n",
              "      <td>5</td>\n",
              "      <td>5201</td>\n",
              "    </tr>\n",
              "    <tr>\n",
              "      <th>153444</th>\n",
              "      <td>1005718</td>\n",
              "      <td>P00057742</td>\n",
              "      <td>F</td>\n",
              "      <td>36-45</td>\n",
              "      <td>14</td>\n",
              "      <td>C</td>\n",
              "      <td>4+</td>\n",
              "      <td>1</td>\n",
              "      <td>2</td>\n",
              "      <td>12908</td>\n",
              "    </tr>\n",
              "    <tr>\n",
              "      <th>170452</th>\n",
              "      <td>1002264</td>\n",
              "      <td>P00050742</td>\n",
              "      <td>F</td>\n",
              "      <td>46-50</td>\n",
              "      <td>7</td>\n",
              "      <td>C</td>\n",
              "      <td>1</td>\n",
              "      <td>0</td>\n",
              "      <td>5</td>\n",
              "      <td>7008</td>\n",
              "    </tr>\n",
              "    <tr>\n",
              "      <th>439104</th>\n",
              "      <td>1001602</td>\n",
              "      <td>P00286842</td>\n",
              "      <td>F</td>\n",
              "      <td>26-35</td>\n",
              "      <td>7</td>\n",
              "      <td>C</td>\n",
              "      <td>2</td>\n",
              "      <td>1</td>\n",
              "      <td>5</td>\n",
              "      <td>8567</td>\n",
              "    </tr>\n",
              "    <tr>\n",
              "      <th>137571</th>\n",
              "      <td>1003292</td>\n",
              "      <td>P00240442</td>\n",
              "      <td>F</td>\n",
              "      <td>51-55</td>\n",
              "      <td>6</td>\n",
              "      <td>B</td>\n",
              "      <td>3</td>\n",
              "      <td>0</td>\n",
              "      <td>6</td>\n",
              "      <td>12662</td>\n",
              "    </tr>\n",
              "  </tbody>\n",
              "</table>\n",
              "</div>"
            ],
            "text/plain": [
              "        User_ID Product_ID Gender    Age  Occupation City_Category  \\\n",
              "199151  1000759  P00052642      F    55+           3             C   \n",
              "153444  1005718  P00057742      F  36-45          14             C   \n",
              "170452  1002264  P00050742      F  46-50           7             C   \n",
              "439104  1001602  P00286842      F  26-35           7             C   \n",
              "137571  1003292  P00240442      F  51-55           6             B   \n",
              "\n",
              "       Stay_In_Current_City_Years  Marital_Status  Product_Category  Purchase  \n",
              "199151                          1               0                 5      5201  \n",
              "153444                         4+               1                 2     12908  \n",
              "170452                          1               0                 5      7008  \n",
              "439104                          2               1                 5      8567  \n",
              "137571                          3               0                 6     12662  "
            ]
          },
          "execution_count": 32,
          "metadata": {},
          "output_type": "execute_result"
        }
      ],
      "source": [
        "sampled_data.head()"
      ]
    },
    {
      "cell_type": "code",
      "execution_count": null,
      "metadata": {
        "id": "Rnef5uvdtqL1"
      },
      "outputs": [],
      "source": []
    },
    {
      "cell_type": "code",
      "execution_count": 33,
      "metadata": {
        "id": "667eT_nZu2P0"
      },
      "outputs": [],
      "source": [
        "def calc_CI(mean, std, N, prob):\n",
        "    std_err = std / np.sqrt(N)\n",
        "    # print(\"SE \", std_err)\n",
        "    slice = (1 - (prob/100))/2\n",
        "    # print(\"slice \", slice)\n",
        "    z1 = norm.ppf(slice)\n",
        "    # print(\"z1 \", z1)\n",
        "    z2 = norm.ppf(1-slice)\n",
        "    # print(\"z2 \", z2)\n",
        "    x1 = mean + ( z1 * std_err)\n",
        "    x2 = mean + ( z2 * std_err)\n",
        "    return x1, x2"
      ]
    },
    {
      "cell_type": "code",
      "execution_count": 34,
      "metadata": {
        "id": "25DncyB3_VJH"
      },
      "outputs": [],
      "source": [
        "male_mean = np.mean(sampled_data.loc[sampled_data[\"Gender\"]==\"M\"][\"Purchase\"])\n",
        "female_mean = np.mean(sampled_data.loc[sampled_data[\"Gender\"]==\"F\"][\"Purchase\"])\n",
        "male_std = np.std(sampled_data.loc[sampled_data[\"Gender\"]==\"M\"][\"Purchase\"])\n",
        "female_std = np.std(sampled_data.loc[sampled_data[\"Gender\"]==\"F\"][\"Purchase\"])"
      ]
    },
    {
      "cell_type": "code",
      "execution_count": 35,
      "metadata": {
        "colab": {
          "base_uri": "https://localhost:8080/",
          "height": 0
        },
        "id": "cucUfsbG1ZBC",
        "outputId": "3dda5906-393a-4f9f-8417-a49d1eee09f4"
      },
      "outputs": [
        {
          "name": "stdout",
          "output_type": "stream",
          "text": [
            "----- 90 %-------\n",
            " Male confidence interval: (9125.58195554966, 9649.28644445034) \n",
            " Female confidence interval: (8492.580271941353, 8991.467728058646)\n",
            "----- 95 %-------\n",
            " Male confidence interval: (9075.41800598471, 9699.45039401529) \n",
            " Female confidence interval: (8444.793465225628, 9039.25453477437)\n",
            "----- 99 %-------\n",
            " Male confidence interval: (8977.375412151921, 9797.492987848078) \n",
            " Female confidence interval: (8351.396862246238, 9132.65113775376)\n"
          ]
        }
      ],
      "source": [
        "confidence_interval = [90,95,99]\n",
        "for intervals in confidence_interval:\n",
        "  print(\"-----\",intervals,\"%-------\\n\", \"Male confidence interval:\", calc_CI(male_mean, male_std, 1000, intervals), \"\\n Female confidence interval:\", calc_CI(female_mean, female_std, 1000, intervals))"
      ]
    },
    {
      "cell_type": "code",
      "execution_count": 36,
      "metadata": {
        "colab": {
          "base_uri": "https://localhost:8080/",
          "height": 0
        },
        "id": "ym3Obq6l98we",
        "outputId": "d056188b-694d-40ea-8d03-539186ee52ba"
      },
      "outputs": [
        {
          "name": "stdout",
          "output_type": "stream",
          "text": [
            "----- 90 %-------\n",
            " Single confidence interval: (9004.40605056871, 9526.398749431291) \n",
            " Married confidence interval: (9126.084208461514, 9654.566191538484)\n",
            "----- 95 %-------\n",
            " Single confidence interval: (8954.406067803659, 9576.398732196343) \n",
            " Married confidence interval: (9075.462638268928, 9705.187761731071)\n",
            "----- 99 %-------\n",
            " Single confidence interval: (8856.683937780117, 9674.120862219885) \n",
            " Married confidence interval: (8976.525650878339, 9804.12474912166)\n"
          ]
        }
      ],
      "source": [
        "# Define the sample sizes for each gender\n",
        "sample_size = 5000  # Adjust as per your desired sample size\n",
        "\n",
        "# Stratified sampling\n",
        "single_data = df[df['Marital_Status'] == 0].sample(n=sample_size, random_state=4)\n",
        "married_data = df[df['Marital_Status'] == 1].sample(n=sample_size, random_state=4)\n",
        "\n",
        "# Combine the sampled data\n",
        "sampled_data = pd.concat([single_data, married_data])\n",
        "\n",
        "single_mean = np.mean(sampled_data.loc[sampled_data[\"Marital_Status\"]==0][\"Purchase\"])\n",
        "married_mean = np.mean(sampled_data.loc[sampled_data[\"Marital_Status\"]==1][\"Purchase\"])\n",
        "single_std = np.std(sampled_data.loc[sampled_data[\"Marital_Status\"]==0][\"Purchase\"])\n",
        "married_std = np.std(sampled_data.loc[sampled_data[\"Marital_Status\"]==1][\"Purchase\"])\n",
        "\n",
        "confidence_interval = [90,95,99]\n",
        "for intervals in confidence_interval:\n",
        "  print(\"-----\",intervals,\"%-------\\n\", \"Single confidence interval:\", calc_CI(single_mean, single_std, 1000, intervals), \"\\n Married confidence interval:\", calc_CI(married_mean, married_std, 1000, intervals))"
      ]
    },
    {
      "cell_type": "code",
      "execution_count": 37,
      "metadata": {
        "id": "m2_niJy3AHg4"
      },
      "outputs": [],
      "source": [
        "age_bins = df[\"Age\"].value_counts().reset_index()[\"Age\"]\n",
        "# df[\"Age\"].value_counts().reset_index()"
      ]
    },
    {
      "cell_type": "code",
      "execution_count": 38,
      "metadata": {
        "id": "vd0iNArkCOwq"
      },
      "outputs": [],
      "source": [
        "sample_size = 1000\n",
        "age_calculations={}\n",
        "for age_group in age_bins:\n",
        "  age_calculations[age_group] = {}\n",
        "  age_calculations[age_group][\"sample\"] = df[df['Age'] == age_group].sample(n=sample_size, random_state=4)\n",
        "  age_calculations[age_group][\"mean\"] = np.mean(age_calculations[age_group][\"sample\"][\"Purchase\"])\n",
        "  age_calculations[age_group][\"std\"] = np.std(age_calculations[age_group][\"sample\"][\"Purchase\"])"
      ]
    },
    {
      "cell_type": "code",
      "execution_count": 39,
      "metadata": {
        "id": "-LoHG7lApGVp"
      },
      "outputs": [],
      "source": [
        "def plot_visualization(age_groups, intervals):\n",
        "  # Plotting the intersection graph\n",
        "  fig, ax = plt.subplots()\n",
        "\n",
        "  # Plotting the intervals\n",
        "  for i, interval in enumerate(intervals):\n",
        "      ax.plot(interval, [i, i], 'k-', lw=2)\n",
        "\n",
        "  # Labeling the age groups\n",
        "  ax.set_yticks(range(len(age_groups)))\n",
        "  ax.set_yticklabels(age_groups)\n",
        "\n",
        "  # Setting the x-axis limits\n",
        "  min_val = min(interval[0] for interval in intervals)\n",
        "  max_val = max(interval[1] for interval in intervals)\n",
        "  ax.set_xlim(min_val, max_val)\n",
        "\n",
        "  # Adding labels and title\n",
        "  ax.set_xlabel('Value')\n",
        "  ax.set_title('Intersection of Confidence Intervals')\n",
        "\n",
        "  # Display the plot\n",
        "  plt.show()"
      ]
    },
    {
      "cell_type": "code",
      "execution_count": 40,
      "metadata": {
        "colab": {
          "base_uri": "https://localhost:8080/",
          "height": 1851
        },
        "id": "aIWL1fmUCW2F",
        "outputId": "2ae18e8a-2f57-4ab6-85ec-2de86f8cc2d0"
      },
      "outputs": [
        {
          "name": "stdout",
          "output_type": "stream",
          "text": [
            "\n",
            "----- 90 %-------\n",
            "26-35 confidence interval: 8751.521389002177 9236.452610997821\n",
            "36-45 confidence interval: 9264.992229647985 9795.049770352016\n",
            "18-25 confidence interval: 9104.379141438014 9621.422858561986\n",
            "46-50 confidence interval: 8852.999383766888 9374.08461623311\n",
            "51-55 confidence interval: 9390.18689980946 9933.16710019054\n",
            "55+ confidence interval: 9009.171814696234 9544.888185303767\n",
            "0-17 confidence interval: 8805.334479961088 9320.763520038914\n"
          ]
        },
        {
          "data": {
            "image/png": "[encoded data removed]",
            "text/plain": [
              "<Figure size 640x480 with 1 Axes>"
            ]
          },
          "metadata": {},
          "output_type": "display_data"
        },
        {
          "name": "stdout",
          "output_type": "stream",
          "text": [
            "\n",
            "----- 95 %-------\n",
            "26-35 confidence interval: 8705.071404558234 9282.902595441765\n",
            "36-45 confidence interval: 9214.219741915038 9845.822258084963\n",
            "18-25 confidence interval: 9054.853205536403 9670.948794463597\n",
            "46-50 confidence interval: 8803.086324256272 9423.997675743727\n",
            "51-55 confidence interval: 9338.176592538925 9985.177407461075\n",
            "55+ confidence interval: 8957.857286053018 9596.202713946983\n",
            "0-17 confidence interval: 8755.963208721749 9370.134791278253\n"
          ]
        },
        {
          "data": {
            "image/png": "[encoded data removed]",
            "text/plain": [
              "<Figure size 640x480 with 1 Axes>"
            ]
          },
          "metadata": {},
          "output_type": "display_data"
        },
        {
          "name": "stdout",
          "output_type": "stream",
          "text": [
            "\n",
            "----- 99 %-------\n",
            "26-35 confidence interval: 8614.287544876686 9373.686455123312\n",
            "36-45 confidence interval: 9114.987794752738 9945.054205247263\n",
            "18-25 confidence interval: 8958.057573216753 9767.744426783247\n",
            "46-50 confidence interval: 8705.534080802734 9521.549919197265\n",
            "51-55 confidence interval: 9236.525397306752 10086.828602693247\n",
            "55+ confidence interval: 8857.565950679318 9696.494049320683\n",
            "0-17 confidence interval: 8659.469859711027 9466.628140288974\n"
          ]
        },
        {
          "data": {
            "image/png": "[encoded data removed]",
            "text/plain": [
              "<Figure size 640x480 with 1 Axes>"
            ]
          },
          "metadata": {},
          "output_type": "display_data"
        }
      ],
      "source": [
        "confidence_interval = [90,95,99]\n",
        "for intervals in confidence_interval:\n",
        "  age_grp_val = []\n",
        "  confidence_inter_val = []\n",
        "  print(\"\\n-----\",intervals,\"%-------\")\n",
        "  for age_group in age_bins:\n",
        "    x1, x2 = calc_CI(age_calculations[age_group][\"mean\"], age_calculations[age_group][\"std\"], 1000, intervals)\n",
        "    age_grp_val.append(age_group)\n",
        "    confidence_inter_val.append((x1, x2))\n",
        "    print(age_group, \"confidence interval:\", x1, x2)\n",
        "  plot_visualization(age_grp_val, confidence_inter_val)"
      ]
    },
    {
      "cell_type": "code",
      "execution_count": null,
      "metadata": {
        "id": "BfC3lLT0oHHT"
      },
      "outputs": [],
      "source": []
    }
  ],
  "metadata": {
    "colab": {
      "provenance": []
    },
    "kernelspec": {
      "display_name": ".venv",
      "language": "python",
      "name": "python3"
    },
    "language_info": {
      "codemirror_mode": {
        "name": "ipython",
        "version": 3
      },
      "file_extension": ".py",
      "mimetype": "text/x-python",
      "name": "python",
      "nbconvert_exporter": "python",
      "pygments_lexer": "ipython3",
      "version": "3.10.6"
    },
    "orig_nbformat": 4
  },
  "nbformat": 4,
  "nbformat_minor": 0
}
