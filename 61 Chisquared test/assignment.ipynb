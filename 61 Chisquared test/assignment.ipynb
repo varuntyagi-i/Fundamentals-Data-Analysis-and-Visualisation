{
 "cells": [
  {
   "cell_type": "code",
   "execution_count": 1,
   "metadata": {},
   "outputs": [],
   "source": [
    "from scipy.stats import chi2_contingency # when expected value has to be computed\n"
   ]
  },
  {
   "cell_type": "code",
   "execution_count": 2,
   "metadata": {},
   "outputs": [],
   "source": [
    "observed = [\n",
    "    [67, 213, 74],\n",
    "    [411, 633, 129],\n",
    "    [85, 51, 7],\n",
    "    [27, 60, 15],\n",
    "]\n",
    "\n",
    "chi_stat, p_value, df, exp_values = chi2_contingency(observed) # chi_stat, p_value, df, exp_values"
   ]
  },
  {
   "cell_type": "code",
   "execution_count": 3,
   "metadata": {},
   "outputs": [
    {
     "data": {
      "text/plain": [
       "(94.26880078578765,\n",
       " 3.925170647869838e-18,\n",
       " 6,\n",
       " array([[117.86681716, 191.18397291,  44.94920993],\n",
       "        [390.55869074, 633.49943567, 148.94187359],\n",
       "        [ 47.61286682,  77.22968397,  18.15744921],\n",
       "        [ 33.96162528,  55.08690745,  12.95146727]]))"
      ]
     },
     "execution_count": 3,
     "metadata": {},
     "output_type": "execute_result"
    }
   ],
   "source": [
    "chi_stat, p_value, df, exp_values"
   ]
  },
  {
   "cell_type": "code",
   "execution_count": 4,
   "metadata": {},
   "outputs": [
    {
     "data": {
      "text/plain": [
       "(17.51186847271713,\n",
       " 0.000554511571355531,\n",
       " 3,\n",
       " array([[ 18.73134328, 232.26865672],\n",
       "        [ 30.89552239, 383.10447761],\n",
       "        [ 30.82089552, 382.17910448],\n",
       "        [ 14.55223881, 180.44776119]]))"
      ]
     },
     "execution_count": 4,
     "metadata": {},
     "output_type": "execute_result"
    }
   ],
   "source": [
    "observed = [\n",
    "    [33, 218],\n",
    "    [25, 389],\n",
    "    [20, 393],\n",
    "    [17, 178],\n",
    "]\n",
    "\n",
    "chi_stat, p_value, df, exp_values = chi2_contingency(observed) # chi_stat, p_value, df, exp_values\n",
    "chi_stat, p_value, df, exp_values"
   ]
  },
  {
   "cell_type": "code",
   "execution_count": 5,
   "metadata": {},
   "outputs": [
    {
     "data": {
      "text/plain": [
       "(13.322313008960627,\n",
       " 0.038193742691133806,\n",
       " 6,\n",
       " array([[ 68.08644401, 145.72888016,  90.18467583],\n",
       "        [ 25.75638507,  55.12770138,  34.11591356],\n",
       "        [ 13.66208251,  29.24165029,  18.09626719],\n",
       "        [  6.49508841,  13.90176817,   8.60314342]]))"
      ]
     },
     "execution_count": 5,
     "metadata": {},
     "output_type": "execute_result"
    }
   ],
   "source": [
    "observed = [\n",
    "    [77, 149, 78],\n",
    "    [23, 56, 36],\n",
    "    [8, 24, 29],\n",
    "    [6, 15, 8],\n",
    "]\n",
    "\n",
    "chi_stat, p_value, df, exp_values = chi2_contingency(observed) # chi_stat, p_value, df, exp_values\n",
    "chi_stat, p_value, df, exp_values"
   ]
  },
  {
   "cell_type": "code",
   "execution_count": 7,
   "metadata": {},
   "outputs": [
    {
     "data": {
      "text/plain": [
       "(11.519544916042339,\n",
       " 0.003151828690194211,\n",
       " 2,\n",
       " array([[333.96753832, 334.87015329, 332.16230839],\n",
       "        [ 36.03246168,  36.12984671,  35.83769161]]))"
      ]
     },
     "execution_count": 7,
     "metadata": {},
     "output_type": "execute_result"
    }
   ],
   "source": [
    "observed = [\n",
    "    [335, 348, 318],\n",
    "    [35, 23, 50],\n",
    "]\n",
    "\n",
    "chi_stat, p_value, df, exp_values = chi2_contingency(observed) # chi_stat, p_value, df, exp_values\n",
    "chi_stat, p_value, df, exp_values"
   ]
  },
  {
   "cell_type": "code",
   "execution_count": 8,
   "metadata": {},
   "outputs": [
    {
     "data": {
      "text/plain": [
       "(60.74604310295546,\n",
       " 2.0217185191724964e-12,\n",
       " 4,\n",
       " array([[22.92576419, 38.97379913, 13.10043668],\n",
       "        [14.97816594, 25.4628821 ,  8.55895197],\n",
       "        [32.09606987, 54.56331878, 18.34061135]]))"
      ]
     },
     "execution_count": 8,
     "metadata": {},
     "output_type": "execute_result"
    }
   ],
   "source": [
    "observed = [\n",
    "    [6, 38, 31],\n",
    "    [14, 31, 4],\n",
    "    [50, 50, 5]\n",
    "]\n",
    "\n",
    "chi_stat, p_value, df, exp_values = chi2_contingency(observed) # chi_stat, p_value, df, exp_values\n",
    "chi_stat, p_value, df, exp_values"
   ]
  },
  {
   "cell_type": "code",
   "execution_count": 10,
   "metadata": {},
   "outputs": [
    {
     "data": {
      "text/plain": [
       "(15.727554171801787,\n",
       " 0.015293451318673136,\n",
       " 6,\n",
       " array([[ 70.55988593, 119.11026616,  37.32984791],\n",
       "        [101.95437262, 172.10646388,  53.9391635 ],\n",
       "        [103.50855513, 174.73003802,  54.76140684],\n",
       "        [ 50.97718631,  86.05323194,  26.96958175]]))"
      ]
     },
     "execution_count": 10,
     "metadata": {},
     "output_type": "execute_result"
    }
   ],
   "source": [
    "observed = [\n",
    "    [75, 106, 46],\n",
    "    [106, 161, 61],\n",
    "    [98, 183, 52],\n",
    "    [48, 102, 14],\n",
    "]\n",
    "\n",
    "chi_stat, p_value, df, exp_values = chi2_contingency(observed) # chi_stat, p_value, df, exp_values\n",
    "chi_stat, p_value, df, exp_values"
   ]
  },
  {
   "cell_type": "code",
   "execution_count": null,
   "metadata": {},
   "outputs": [],
   "source": []
  },
  {
   "cell_type": "code",
   "execution_count": null,
   "metadata": {},
   "outputs": [],
   "source": []
  },
  {
   "cell_type": "code",
   "execution_count": 1,
   "metadata": {},
   "outputs": [],
   "source": [
    "from scipy.stats import chisquare # Statistical test (chistat, pvalue)"
   ]
  },
  {
   "cell_type": "code",
   "execution_count": 8,
   "metadata": {},
   "outputs": [
    {
     "name": "stdout",
     "output_type": "stream",
     "text": [
      "22612.942612942614\n",
      "0.0\n",
      "Reject H0\n",
      "Coin is biased\n"
     ]
    }
   ],
   "source": [
    "# H0: Coin is fair\n",
    "# Ha: Coin is biased\n",
    "\n",
    "alpha = 0.01\n",
    "\n",
    "chi_stat, p_value = chisquare(\n",
    "    [10000, 10000, 10000, 10000, 10000, 10000], # observed heads and tails\n",
    "    [13000, 9000, 15000, 3000, 14000, 6000], # expected heads and tails, under H0\n",
    ")\n",
    "print(chi_stat)\n",
    "print(round(p_value,5))\n",
    "if p_value < alpha:\n",
    "    print(\"Reject H0\")\n",
    "    print(\"Coin is biased\")\n",
    "else:\n",
    "    print(\"Fail to reject H0\")\n",
    "    print(\"Coin is fair\")"
   ]
  },
  {
   "cell_type": "code",
   "execution_count": null,
   "metadata": {},
   "outputs": [],
   "source": []
  }
 ],
 "metadata": {
  "kernelspec": {
   "display_name": ".venv",
   "language": "python",
   "name": "python3"
  },
  "language_info": {
   "codemirror_mode": {
    "name": "ipython",
    "version": 3
   },
   "file_extension": ".py",
   "mimetype": "text/x-python",
   "name": "python",
   "nbconvert_exporter": "python",
   "pygments_lexer": "ipython3",
   "version": "3.10.6"
  },
  "orig_nbformat": 4
 },
 "nbformat": 4,
 "nbformat_minor": 2
}
